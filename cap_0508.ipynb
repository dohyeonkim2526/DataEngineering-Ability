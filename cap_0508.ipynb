{
 "cells": [
  {
   "cell_type": "code",
   "execution_count": 1,
   "metadata": {},
   "outputs": [],
   "source": [
    "import matplotlib.pyplot as plt\n",
    "import numpy as np\n",
    "import pandas as pd\n",
    "from sklearn.model_selection import train_test_split\n",
    "from sklearn.tree import DecisionTreeClassifier\n",
    "from matplotlib import rc\n",
    "from sklearn.tree import export_graphviz\n",
    "from sklearn.metrics import accuracy_score, confusion_matrix, classification_report, plot_roc_curve, roc_curve, auc \n",
    "from sklearn.metrics import roc_auc_score\n",
    "from sklearn.multiclass import OneVsRestClassifier\n",
    "from sklearn.ensemble import RandomForestClassifier\n",
    "from sklearn.model_selection import cross_val_score\n",
    "from sklearn.preprocessing import LabelEncoder\n",
    "import graphviz\n",
    "import matplotlib.pyplot as plt\n",
    "import matplotlib.font_manager as fm\n",
    "import seaborn as sns"
   ]
  },
  {
   "cell_type": "code",
   "execution_count": 2,
   "metadata": {},
   "outputs": [],
   "source": [
    "from sklearn.ensemble import RandomForestClassifier\n",
    "from sklearn.svm import SVC"
   ]
  },
  {
   "cell_type": "code",
   "execution_count": 3,
   "metadata": {},
   "outputs": [],
   "source": [
    "row_data='/Users/gimdohyeon/Documents/캡스톤디자인/데이터/fire_dataset.csv'\n",
    "data=pd.read_csv(row_data, encoding='euc-kr')\n",
    "\n",
    "data=data.dropna()\n",
    "data=data.reset_index(drop=True)"
   ]
  },
  {
   "cell_type": "code",
   "execution_count": 4,
   "metadata": {},
   "outputs": [],
   "source": [
    "# x=data.drop('재산피해소계', axis=1)\n",
    "data=data.drop(['발화열원','발화열원소분류','발화요인소분류','최초착화물소분류','발화관련기기소분류','건물상태','장소대분류','장소소분류','발화지점대분류','층수(지상)','층수(지하)','화재유형',\n",
    "            '발화지점소분류'],axis=1)"
   ]
  },
  {
   "cell_type": "code",
   "execution_count": 5,
   "metadata": {},
   "outputs": [
    {
     "data": {
      "text/plain": [
       "Index(['재산피해소계', '건물층수(지상)', '건물층수(지하)', '발화층', '소방서거리(㎞)', '발화요인대분류',\n",
       "       '최초착화물대분류', '발화관련기기대분류', '펌프물탱크', '날씨', '온도(℃)', '습도', '풍속', '풍향',\n",
       "       '건물구조조', '건물구조즙', '장소중분류', '특정소방대상물', '방화관리대상여부', '다중이용업여부'],\n",
       "      dtype='object')"
      ]
     },
     "execution_count": 5,
     "metadata": {},
     "output_type": "execute_result"
    }
   ],
   "source": [
    "x=data\n",
    "x.columns"
   ]
  },
  {
   "cell_type": "code",
   "execution_count": 6,
   "metadata": {},
   "outputs": [],
   "source": [
    "x['건물층수']=x['건물층수(지상)']+x['건물층수(지하)']\n",
    "x=x.drop(['건물층수(지상)','건물층수(지하)','발화층'], axis=1)"
   ]
  },
  {
   "cell_type": "code",
   "execution_count": 6,
   "metadata": {},
   "outputs": [],
   "source": [
    "#cols=x.columns\n",
    "#data_uni=[]\n",
    "\n",
    "#for i in range(len(cols)):\n",
    "#    if x[cols[i]].dtypes=='object':\n",
    "#        data_uni.append(x[cols[i]].unique())\n",
    "#    else:\n",
    "#        continue"
   ]
  },
  {
   "cell_type": "code",
   "execution_count": 7,
   "metadata": {},
   "outputs": [],
   "source": [
    "# 문자열인 각 x변수의 속성보고 제거할지 결정\n",
    "#data_uni"
   ]
  },
  {
   "cell_type": "code",
   "execution_count": 7,
   "metadata": {},
   "outputs": [
    {
     "data": {
      "text/html": [
       "<div>\n",
       "<style scoped>\n",
       "    .dataframe tbody tr th:only-of-type {\n",
       "        vertical-align: middle;\n",
       "    }\n",
       "\n",
       "    .dataframe tbody tr th {\n",
       "        vertical-align: top;\n",
       "    }\n",
       "\n",
       "    .dataframe thead th {\n",
       "        text-align: right;\n",
       "    }\n",
       "</style>\n",
       "<table border=\"1\" class=\"dataframe\">\n",
       "  <thead>\n",
       "    <tr style=\"text-align: right;\">\n",
       "      <th></th>\n",
       "      <th>재산피해소계</th>\n",
       "      <th>소방서거리(㎞)</th>\n",
       "      <th>습도</th>\n",
       "      <th>풍속</th>\n",
       "      <th>풍향</th>\n",
       "      <th>건물구조즙</th>\n",
       "      <th>특정소방대상물</th>\n",
       "      <th>건물층수</th>\n",
       "    </tr>\n",
       "  </thead>\n",
       "  <tbody>\n",
       "    <tr>\n",
       "      <th>0</th>\n",
       "      <td>5490</td>\n",
       "      <td>2.1</td>\n",
       "      <td>93.0</td>\n",
       "      <td>북동</td>\n",
       "      <td>0~4 m/s</td>\n",
       "      <td>슬라브가</td>\n",
       "      <td>공장</td>\n",
       "      <td>3.0</td>\n",
       "    </tr>\n",
       "    <tr>\n",
       "      <th>1</th>\n",
       "      <td>19</td>\n",
       "      <td>4.0</td>\n",
       "      <td>0.0</td>\n",
       "      <td>NONE</td>\n",
       "      <td>NONE</td>\n",
       "      <td>슬라브가</td>\n",
       "      <td>공동주택</td>\n",
       "      <td>19.0</td>\n",
       "    </tr>\n",
       "    <tr>\n",
       "      <th>2</th>\n",
       "      <td>11</td>\n",
       "      <td>1.3</td>\n",
       "      <td>67.0</td>\n",
       "      <td>북서</td>\n",
       "      <td>0~4 m/s</td>\n",
       "      <td>슬라브가</td>\n",
       "      <td>근린생활시설</td>\n",
       "      <td>5.0</td>\n",
       "    </tr>\n",
       "    <tr>\n",
       "      <th>3</th>\n",
       "      <td>0</td>\n",
       "      <td>3.0</td>\n",
       "      <td>0.0</td>\n",
       "      <td>북서</td>\n",
       "      <td>0~4 m/s</td>\n",
       "      <td>슬라브가</td>\n",
       "      <td>근린생활시설</td>\n",
       "      <td>9.0</td>\n",
       "    </tr>\n",
       "    <tr>\n",
       "      <th>4</th>\n",
       "      <td>32750</td>\n",
       "      <td>2.6</td>\n",
       "      <td>94.0</td>\n",
       "      <td>북동</td>\n",
       "      <td>0~4 m/s</td>\n",
       "      <td>슬라브가</td>\n",
       "      <td>공장</td>\n",
       "      <td>4.0</td>\n",
       "    </tr>\n",
       "    <tr>\n",
       "      <th>...</th>\n",
       "      <td>...</td>\n",
       "      <td>...</td>\n",
       "      <td>...</td>\n",
       "      <td>...</td>\n",
       "      <td>...</td>\n",
       "      <td>...</td>\n",
       "      <td>...</td>\n",
       "      <td>...</td>\n",
       "    </tr>\n",
       "    <tr>\n",
       "      <th>6827</th>\n",
       "      <td>0</td>\n",
       "      <td>2.0</td>\n",
       "      <td>26.0</td>\n",
       "      <td>북서</td>\n",
       "      <td>0~4 m/s</td>\n",
       "      <td>슬라브가</td>\n",
       "      <td>근린생활시설</td>\n",
       "      <td>2.0</td>\n",
       "    </tr>\n",
       "    <tr>\n",
       "      <th>6828</th>\n",
       "      <td>485</td>\n",
       "      <td>5.7</td>\n",
       "      <td>36.0</td>\n",
       "      <td>북</td>\n",
       "      <td>0~4 m/s</td>\n",
       "      <td>슬라브가</td>\n",
       "      <td>판매시설 및 영업시설</td>\n",
       "      <td>3.0</td>\n",
       "    </tr>\n",
       "    <tr>\n",
       "      <th>6829</th>\n",
       "      <td>61</td>\n",
       "      <td>3.5</td>\n",
       "      <td>82.5</td>\n",
       "      <td>북</td>\n",
       "      <td>0~4 m/s</td>\n",
       "      <td>슬라브가</td>\n",
       "      <td>근린생활시설</td>\n",
       "      <td>4.0</td>\n",
       "    </tr>\n",
       "    <tr>\n",
       "      <th>6830</th>\n",
       "      <td>110</td>\n",
       "      <td>1.5</td>\n",
       "      <td>35.0</td>\n",
       "      <td>북서</td>\n",
       "      <td>0~4 m/s</td>\n",
       "      <td>슬라브가</td>\n",
       "      <td>판매시설 및 영업시설</td>\n",
       "      <td>9.0</td>\n",
       "    </tr>\n",
       "    <tr>\n",
       "      <th>6831</th>\n",
       "      <td>2281</td>\n",
       "      <td>4.8</td>\n",
       "      <td>45.0</td>\n",
       "      <td>북서</td>\n",
       "      <td>0~4 m/s</td>\n",
       "      <td>슬라브가</td>\n",
       "      <td>근린생활시설</td>\n",
       "      <td>5.0</td>\n",
       "    </tr>\n",
       "  </tbody>\n",
       "</table>\n",
       "<p>6832 rows × 8 columns</p>\n",
       "</div>"
      ],
      "text/plain": [
       "      재산피해소계  소방서거리(㎞)    습도    풍속       풍향 건물구조즙      특정소방대상물  건물층수\n",
       "0       5490       2.1  93.0    북동  0~4 m/s  슬라브가           공장   3.0\n",
       "1         19       4.0   0.0  NONE     NONE  슬라브가         공동주택  19.0\n",
       "2         11       1.3  67.0    북서  0~4 m/s  슬라브가       근린생활시설   5.0\n",
       "3          0       3.0   0.0    북서  0~4 m/s  슬라브가       근린생활시설   9.0\n",
       "4      32750       2.6  94.0    북동  0~4 m/s  슬라브가           공장   4.0\n",
       "...      ...       ...   ...   ...      ...   ...          ...   ...\n",
       "6827       0       2.0  26.0    북서  0~4 m/s  슬라브가       근린생활시설   2.0\n",
       "6828     485       5.7  36.0     북  0~4 m/s  슬라브가  판매시설 및 영업시설   3.0\n",
       "6829      61       3.5  82.5     북  0~4 m/s  슬라브가       근린생활시설   4.0\n",
       "6830     110       1.5  35.0    북서  0~4 m/s  슬라브가  판매시설 및 영업시설   9.0\n",
       "6831    2281       4.8  45.0    북서  0~4 m/s  슬라브가       근린생활시설   5.0\n",
       "\n",
       "[6832 rows x 8 columns]"
      ]
     },
     "execution_count": 7,
     "metadata": {},
     "output_type": "execute_result"
    }
   ],
   "source": [
    "x=x.drop(['발화요인대분류','최초착화물대분류','발화관련기기대분류','장소중분류',\n",
    "          '펌프물탱크','다중이용업여부','방화관리대상여부','건물구조조','날씨','온도(℃)'], axis=1)\n",
    "x=x.dropna()\n",
    "x.reset_index(drop=True)"
   ]
  },
  {
   "cell_type": "code",
   "execution_count": 8,
   "metadata": {},
   "outputs": [],
   "source": [
    "ind_x=x[x['풍속']=='NONE'].index\n",
    "x=x.drop(ind_x)"
   ]
  },
  {
   "cell_type": "code",
   "execution_count": 9,
   "metadata": {},
   "outputs": [],
   "source": [
    "x=x.reset_index(drop=True)\n",
    "#x.풍향.replace({'NONE':'0~4 m/s'},inplace=True)"
   ]
  },
  {
   "cell_type": "code",
   "execution_count": 10,
   "metadata": {},
   "outputs": [],
   "source": [
    "rc('font',family='AppleGothic',size=8)\n",
    "plt.rcParams['axes.unicode_minus']=False"
   ]
  },
  {
   "cell_type": "code",
   "execution_count": 12,
   "metadata": {},
   "outputs": [
    {
     "data": {
      "text/plain": [
       "<seaborn.axisgrid.PairGrid at 0x7fb91986f250>"
      ]
     },
     "execution_count": 12,
     "metadata": {},
     "output_type": "execute_result"
    },
    {
     "data": {
      "image/png": "[encoded data removed]",
      "text/plain": [
       "<Figure size 720x720 with 20 Axes>"
      ]
     },
     "metadata": {
      "needs_background": "light"
     },
     "output_type": "display_data"
    }
   ],
   "source": [
    "#sns.pairplot(x)"
   ]
  },
  {
   "cell_type": "code",
   "execution_count": 11,
   "metadata": {},
   "outputs": [],
   "source": [
    "cols=x.columns\n",
    "objcols=[]\n",
    "\n",
    "for i in range(len(cols)):\n",
    "    if x[cols[i]].dtypes=='object':\n",
    "        objcols.append(cols[i])"
   ]
  },
  {
   "cell_type": "code",
   "execution_count": 12,
   "metadata": {},
   "outputs": [
    {
     "data": {
      "text/plain": [
       "['풍속', '풍향', '건물구조즙', '특정소방대상물']"
      ]
     },
     "execution_count": 12,
     "metadata": {},
     "output_type": "execute_result"
    }
   ],
   "source": [
    "objcols"
   ]
  },
  {
   "cell_type": "code",
   "execution_count": 13,
   "metadata": {},
   "outputs": [],
   "source": [
    "def Label(df):\n",
    "    features=objcols\n",
    "    for feature in features:\n",
    "        le=LabelEncoder()\n",
    "        df[feature]=le.fit_transform(df[feature])\n",
    "    return df"
   ]
  },
  {
   "cell_type": "code",
   "execution_count": 14,
   "metadata": {},
   "outputs": [],
   "source": [
    "# 각 레이블 인코더 변환 확인하는 함수 \n",
    "le_df=[]\n",
    "for i in range(len(objcols)):\n",
    "    le=LabelEncoder()\n",
    "    col=x[objcols[i]].unique()\n",
    "    col_le=le.fit_transform(col)\n",
    "    col_inv=le.inverse_transform(col_le)\n",
    "    df=pd.DataFrame(col_le, col_inv)\n",
    "    le_df.append(df)"
   ]
  },
  {
   "cell_type": "code",
   "execution_count": 15,
   "metadata": {},
   "outputs": [
    {
     "data": {
      "text/html": [
       "<div>\n",
       "<style scoped>\n",
       "    .dataframe tbody tr th:only-of-type {\n",
       "        vertical-align: middle;\n",
       "    }\n",
       "\n",
       "    .dataframe tbody tr th {\n",
       "        vertical-align: top;\n",
       "    }\n",
       "\n",
       "    .dataframe thead th {\n",
       "        text-align: right;\n",
       "    }\n",
       "</style>\n",
       "<table border=\"1\" class=\"dataframe\">\n",
       "  <thead>\n",
       "    <tr style=\"text-align: right;\">\n",
       "      <th></th>\n",
       "      <th>재산피해소계</th>\n",
       "      <th>소방서거리(㎞)</th>\n",
       "      <th>습도</th>\n",
       "      <th>풍속</th>\n",
       "      <th>풍향</th>\n",
       "      <th>건물구조즙</th>\n",
       "      <th>특정소방대상물</th>\n",
       "      <th>건물층수</th>\n",
       "    </tr>\n",
       "  </thead>\n",
       "  <tbody>\n",
       "    <tr>\n",
       "      <th>0</th>\n",
       "      <td>5490</td>\n",
       "      <td>2.1</td>\n",
       "      <td>93.0</td>\n",
       "      <td>북동</td>\n",
       "      <td>0~4 m/s</td>\n",
       "      <td>슬라브가</td>\n",
       "      <td>공장</td>\n",
       "      <td>3.0</td>\n",
       "    </tr>\n",
       "    <tr>\n",
       "      <th>1</th>\n",
       "      <td>11</td>\n",
       "      <td>1.3</td>\n",
       "      <td>67.0</td>\n",
       "      <td>북서</td>\n",
       "      <td>0~4 m/s</td>\n",
       "      <td>슬라브가</td>\n",
       "      <td>근린생활시설</td>\n",
       "      <td>5.0</td>\n",
       "    </tr>\n",
       "    <tr>\n",
       "      <th>2</th>\n",
       "      <td>0</td>\n",
       "      <td>3.0</td>\n",
       "      <td>0.0</td>\n",
       "      <td>북서</td>\n",
       "      <td>0~4 m/s</td>\n",
       "      <td>슬라브가</td>\n",
       "      <td>근린생활시설</td>\n",
       "      <td>9.0</td>\n",
       "    </tr>\n",
       "    <tr>\n",
       "      <th>3</th>\n",
       "      <td>32750</td>\n",
       "      <td>2.6</td>\n",
       "      <td>94.0</td>\n",
       "      <td>북동</td>\n",
       "      <td>0~4 m/s</td>\n",
       "      <td>슬라브가</td>\n",
       "      <td>공장</td>\n",
       "      <td>4.0</td>\n",
       "    </tr>\n",
       "    <tr>\n",
       "      <th>4</th>\n",
       "      <td>2329</td>\n",
       "      <td>3.0</td>\n",
       "      <td>82.0</td>\n",
       "      <td>동</td>\n",
       "      <td>0~4 m/s</td>\n",
       "      <td>슬라브가</td>\n",
       "      <td>공동주택</td>\n",
       "      <td>21.0</td>\n",
       "    </tr>\n",
       "    <tr>\n",
       "      <th>...</th>\n",
       "      <td>...</td>\n",
       "      <td>...</td>\n",
       "      <td>...</td>\n",
       "      <td>...</td>\n",
       "      <td>...</td>\n",
       "      <td>...</td>\n",
       "      <td>...</td>\n",
       "      <td>...</td>\n",
       "    </tr>\n",
       "    <tr>\n",
       "      <th>6316</th>\n",
       "      <td>0</td>\n",
       "      <td>2.0</td>\n",
       "      <td>26.0</td>\n",
       "      <td>북서</td>\n",
       "      <td>0~4 m/s</td>\n",
       "      <td>슬라브가</td>\n",
       "      <td>근린생활시설</td>\n",
       "      <td>2.0</td>\n",
       "    </tr>\n",
       "    <tr>\n",
       "      <th>6317</th>\n",
       "      <td>485</td>\n",
       "      <td>5.7</td>\n",
       "      <td>36.0</td>\n",
       "      <td>북</td>\n",
       "      <td>0~4 m/s</td>\n",
       "      <td>슬라브가</td>\n",
       "      <td>판매시설 및 영업시설</td>\n",
       "      <td>3.0</td>\n",
       "    </tr>\n",
       "    <tr>\n",
       "      <th>6318</th>\n",
       "      <td>61</td>\n",
       "      <td>3.5</td>\n",
       "      <td>82.5</td>\n",
       "      <td>북</td>\n",
       "      <td>0~4 m/s</td>\n",
       "      <td>슬라브가</td>\n",
       "      <td>근린생활시설</td>\n",
       "      <td>4.0</td>\n",
       "    </tr>\n",
       "    <tr>\n",
       "      <th>6319</th>\n",
       "      <td>110</td>\n",
       "      <td>1.5</td>\n",
       "      <td>35.0</td>\n",
       "      <td>북서</td>\n",
       "      <td>0~4 m/s</td>\n",
       "      <td>슬라브가</td>\n",
       "      <td>판매시설 및 영업시설</td>\n",
       "      <td>9.0</td>\n",
       "    </tr>\n",
       "    <tr>\n",
       "      <th>6320</th>\n",
       "      <td>2281</td>\n",
       "      <td>4.8</td>\n",
       "      <td>45.0</td>\n",
       "      <td>북서</td>\n",
       "      <td>0~4 m/s</td>\n",
       "      <td>슬라브가</td>\n",
       "      <td>근린생활시설</td>\n",
       "      <td>5.0</td>\n",
       "    </tr>\n",
       "  </tbody>\n",
       "</table>\n",
       "<p>6321 rows × 8 columns</p>\n",
       "</div>"
      ],
      "text/plain": [
       "      재산피해소계  소방서거리(㎞)    습도  풍속       풍향 건물구조즙      특정소방대상물  건물층수\n",
       "0       5490       2.1  93.0  북동  0~4 m/s  슬라브가           공장   3.0\n",
       "1         11       1.3  67.0  북서  0~4 m/s  슬라브가       근린생활시설   5.0\n",
       "2          0       3.0   0.0  북서  0~4 m/s  슬라브가       근린생활시설   9.0\n",
       "3      32750       2.6  94.0  북동  0~4 m/s  슬라브가           공장   4.0\n",
       "4       2329       3.0  82.0   동  0~4 m/s  슬라브가         공동주택  21.0\n",
       "...      ...       ...   ...  ..      ...   ...          ...   ...\n",
       "6316       0       2.0  26.0  북서  0~4 m/s  슬라브가       근린생활시설   2.0\n",
       "6317     485       5.7  36.0   북  0~4 m/s  슬라브가  판매시설 및 영업시설   3.0\n",
       "6318      61       3.5  82.5   북  0~4 m/s  슬라브가       근린생활시설   4.0\n",
       "6319     110       1.5  35.0  북서  0~4 m/s  슬라브가  판매시설 및 영업시설   9.0\n",
       "6320    2281       4.8  45.0  북서  0~4 m/s  슬라브가       근린생활시설   5.0\n",
       "\n",
       "[6321 rows x 8 columns]"
      ]
     },
     "execution_count": 15,
     "metadata": {},
     "output_type": "execute_result"
    }
   ],
   "source": [
    "x"
   ]
  },
  {
   "cell_type": "code",
   "execution_count": 16,
   "metadata": {},
   "outputs": [],
   "source": [
    "y=x.재산피해소계\n",
    "bins=[0,120,700,5000]\n",
    "y=np.digitize(y, bins)\n",
    "y=pd.Series(y, name='재산피해소계')"
   ]
  },
  {
   "cell_type": "code",
   "execution_count": 17,
   "metadata": {},
   "outputs": [],
   "source": [
    "x['재산피해소계']=y"
   ]
  },
  {
   "cell_type": "code",
   "execution_count": 18,
   "metadata": {},
   "outputs": [],
   "source": [
    "Y=x.재산피해소계\n",
    "x=x.drop('재산피해소계', axis=1)\n",
    "x_original=x.copy()\n",
    "\n",
    "# 원본 데이터에서 문자열 속성만 LabelEncoder()\n",
    "X=Label(x)"
   ]
  },
  {
   "cell_type": "code",
   "execution_count": 19,
   "metadata": {},
   "outputs": [
    {
     "data": {
      "text/plain": [
       "Counter({4: 1439, 1: 1641, 3: 1605, 2: 1636})"
      ]
     },
     "execution_count": 19,
     "metadata": {},
     "output_type": "execute_result"
    },
    {
     "data": {
      "image/png": "[encoded data removed]",
      "text/plain": [
       "<Figure size 432x288 with 1 Axes>"
      ]
     },
     "metadata": {
      "needs_background": "light"
     },
     "output_type": "display_data"
    }
   ],
   "source": [
    "plot=Y.value_counts().sort_index(ascending=True).plot.bar(color='royalblue')\n",
    "plot.set_xticklabels(['0-120','120-700','700-5000','more than 5000'], rotation=0)\n",
    "\n",
    "# 재산피해액(y)의 값에 따라 4개의 레이블로 나눈다.\n",
    "import collections\n",
    "dict={}\n",
    "dict=collections.Counter(Y)\n",
    "dict # 각 레이블 갯수 비교"
   ]
  },
  {
   "cell_type": "code",
   "execution_count": 21,
   "metadata": {},
   "outputs": [],
   "source": [
    "# 모델 학습\n",
    "#X_train, X_test, y_train, y_test=train_test_split(X, Y, test_size=.25, random_state=42)\n",
    "\n",
    "#tree=DecisionTreeClassifier(max_depth=10,\n",
    "#                            min_samples_leaf=30,\n",
    "#                            min_samples_split=30,\n",
    "#                            max_leaf_nodes=30,\n",
    "#                            splitter='best',\n",
    "#                            criterion='gini')\n",
    "\n",
    "#tree=DecisionTreeClassifier(max_depth=25,\n",
    "#                            min_samples_leaf=10,\n",
    "#                            min_samples_split=50,\n",
    "#                            max_leaf_nodes=17,\n",
    "#                            splitter='best',\n",
    "#                            criterion='gini')\n",
    "\n",
    "#tree=DecisionTreeClassifier(max_depth=20,\n",
    "#                            min_samples_leaf=10,\n",
    "#                            min_samples_split=10,\n",
    "#                            splitter='best',\n",
    "#                            criterion='gini')\n",
    "\n",
    "\n",
    "#tree=DecisionTreeClassifier(max_depth=50,\n",
    "#                            min_samples_leaf=3,\n",
    "#                            #min_samples_split=5,\n",
    "#                            min_samples_split=10,\n",
    "#                            splitter='best',                           \n",
    "#                            criterion='gini')"
   ]
  },
  {
   "cell_type": "code",
   "execution_count": 20,
   "metadata": {},
   "outputs": [],
   "source": [
    "# 모델 학습\n",
    "X_train, X_test, y_train, y_test=train_test_split(X, Y, test_size=.25, random_state=42)\n",
    "\n",
    "\n",
    "tree=DecisionTreeClassifier(max_depth=50,\n",
    "                            min_samples_leaf=3,\n",
    "                            #min_samples_split=5,\n",
    "                            min_samples_split=10,\n",
    "                            splitter='best',                           \n",
    "                            criterion='gini')"
   ]
  },
  {
   "cell_type": "code",
   "execution_count": 21,
   "metadata": {},
   "outputs": [
    {
     "name": "stdout",
     "output_type": "stream",
     "text": [
      "Training accuracy:  0.6751054852320675\n"
     ]
    }
   ],
   "source": [
    "tree.fit(X_train, y_train)\n",
    "print('Training accuracy: ',tree.score(X_train, y_train))\n",
    "y_pred=tree.predict(X_test)"
   ]
  },
  {
   "cell_type": "code",
   "execution_count": 22,
   "metadata": {},
   "outputs": [
    {
     "data": {
      "text/plain": [
       "0.2928526249209361"
      ]
     },
     "execution_count": 22,
     "metadata": {},
     "output_type": "execute_result"
    }
   ],
   "source": [
    "accuracy_score(y_test, y_pred)"
   ]
  },
  {
   "cell_type": "code",
   "execution_count": 23,
   "metadata": {},
   "outputs": [
    {
     "name": "stderr",
     "output_type": "stream",
     "text": [
      "dot: graph is too large for cairo-renderer bitmaps. Scaling by 0.68989 to fit\n"
     ]
    },
    {
     "data": {
      "text/plain": [
       "'/Users/gimdohyeon/Desktop/캡스톤디자인(2)/tree_model/tree_0508.png'"
      ]
     },
     "execution_count": 23,
     "metadata": {},
     "output_type": "execute_result"
    }
   ],
   "source": [
    "# Decision Tree 확인\n",
    "export_graphviz(tree,\n",
    "                out_file=\"tree.dot\",\n",
    "                feature_names=X.columns,\n",
    "                #class_names=['관심','주의','경고','위험'],\n",
    "                class_names=['0-120','120-700','700-5000','more than 5000'],\n",
    "                rounded=True, #둥근 노드 상자와 Helvetica 폰트 사용\n",
    "                filled=True #노드의 클래스가 구분되도록 색을 채워줌\n",
    "                )\n",
    "\n",
    "with open(\"tree.dot\") as f:\n",
    "    dot_graph=f.read()   \n",
    "   \n",
    "dot=graphviz.Source(dot_graph)\n",
    "dot.format='png'\n",
    "dot.render(filename=\"tree_0508\", directory=\"/Users/gimdohyeon/Desktop/캡스톤디자인(2)/tree_model\", cleanup=True) #트리 저장할때마다 파일명 바꿔주기"
   ]
  },
  {
   "cell_type": "code",
   "execution_count": 24,
   "metadata": {},
   "outputs": [
    {
     "name": "stdout",
     "output_type": "stream",
     "text": [
      "[0.27547386 0.27655284 0.12579122 0.00991933 0.07513942 0.10132113\n",
      " 0.1358022 ]\n"
     ]
    }
   ],
   "source": [
    "print(tree.feature_importances_)"
   ]
  },
  {
   "cell_type": "code",
   "execution_count": 25,
   "metadata": {},
   "outputs": [
    {
     "data": {
      "image/png": "[encoded data removed]",
      "text/plain": [
       "<Figure size 900x600 with 1 Axes>"
      ]
     },
     "metadata": {
      "needs_background": "light"
     },
     "output_type": "display_data"
    }
   ],
   "source": [
    "def plot_feature_importance(model):\n",
    "    n_features=X.shape[1]\n",
    "    plt.figure(dpi=150) #고해상도 plot(기본100)\n",
    "    plt.barh(range(n_features), model.feature_importances_, align='center')\n",
    "    plt.yticks(np.arange(n_features), X.columns)\n",
    "    plt.xlabel('feature importance')\n",
    "    plt.ylabel('feature')\n",
    "    plt.ylim(-1, n_features)\n",
    "\n",
    "plot_feature_importance(tree)"
   ]
  },
  {
   "cell_type": "code",
   "execution_count": 27,
   "metadata": {},
   "outputs": [
    {
     "data": {
      "text/html": [
       "<div>\n",
       "<style scoped>\n",
       "    .dataframe tbody tr th:only-of-type {\n",
       "        vertical-align: middle;\n",
       "    }\n",
       "\n",
       "    .dataframe tbody tr th {\n",
       "        vertical-align: top;\n",
       "    }\n",
       "\n",
       "    .dataframe thead th {\n",
       "        text-align: right;\n",
       "    }\n",
       "</style>\n",
       "<table border=\"1\" class=\"dataframe\">\n",
       "  <thead>\n",
       "    <tr style=\"text-align: right;\">\n",
       "      <th></th>\n",
       "      <th>소방서거리(㎞)</th>\n",
       "      <th>습도</th>\n",
       "      <th>풍속</th>\n",
       "      <th>풍향</th>\n",
       "      <th>건물구조즙</th>\n",
       "      <th>특정소방대상물</th>\n",
       "      <th>건물층수</th>\n",
       "    </tr>\n",
       "  </thead>\n",
       "  <tbody>\n",
       "    <tr>\n",
       "      <th>0</th>\n",
       "      <td>2.1</td>\n",
       "      <td>93.0</td>\n",
       "      <td>북동</td>\n",
       "      <td>0~4 m/s</td>\n",
       "      <td>슬라브가</td>\n",
       "      <td>공장</td>\n",
       "      <td>3.0</td>\n",
       "    </tr>\n",
       "    <tr>\n",
       "      <th>1</th>\n",
       "      <td>1.3</td>\n",
       "      <td>67.0</td>\n",
       "      <td>북서</td>\n",
       "      <td>0~4 m/s</td>\n",
       "      <td>슬라브가</td>\n",
       "      <td>근린생활시설</td>\n",
       "      <td>5.0</td>\n",
       "    </tr>\n",
       "    <tr>\n",
       "      <th>2</th>\n",
       "      <td>3.0</td>\n",
       "      <td>0.0</td>\n",
       "      <td>북서</td>\n",
       "      <td>0~4 m/s</td>\n",
       "      <td>슬라브가</td>\n",
       "      <td>근린생활시설</td>\n",
       "      <td>9.0</td>\n",
       "    </tr>\n",
       "    <tr>\n",
       "      <th>3</th>\n",
       "      <td>2.6</td>\n",
       "      <td>94.0</td>\n",
       "      <td>북동</td>\n",
       "      <td>0~4 m/s</td>\n",
       "      <td>슬라브가</td>\n",
       "      <td>공장</td>\n",
       "      <td>4.0</td>\n",
       "    </tr>\n",
       "    <tr>\n",
       "      <th>4</th>\n",
       "      <td>3.0</td>\n",
       "      <td>82.0</td>\n",
       "      <td>동</td>\n",
       "      <td>0~4 m/s</td>\n",
       "      <td>슬라브가</td>\n",
       "      <td>공동주택</td>\n",
       "      <td>21.0</td>\n",
       "    </tr>\n",
       "    <tr>\n",
       "      <th>...</th>\n",
       "      <td>...</td>\n",
       "      <td>...</td>\n",
       "      <td>...</td>\n",
       "      <td>...</td>\n",
       "      <td>...</td>\n",
       "      <td>...</td>\n",
       "      <td>...</td>\n",
       "    </tr>\n",
       "    <tr>\n",
       "      <th>6316</th>\n",
       "      <td>2.0</td>\n",
       "      <td>26.0</td>\n",
       "      <td>북서</td>\n",
       "      <td>0~4 m/s</td>\n",
       "      <td>슬라브가</td>\n",
       "      <td>근린생활시설</td>\n",
       "      <td>2.0</td>\n",
       "    </tr>\n",
       "    <tr>\n",
       "      <th>6317</th>\n",
       "      <td>5.7</td>\n",
       "      <td>36.0</td>\n",
       "      <td>북</td>\n",
       "      <td>0~4 m/s</td>\n",
       "      <td>슬라브가</td>\n",
       "      <td>판매시설 및 영업시설</td>\n",
       "      <td>3.0</td>\n",
       "    </tr>\n",
       "    <tr>\n",
       "      <th>6318</th>\n",
       "      <td>3.5</td>\n",
       "      <td>82.5</td>\n",
       "      <td>북</td>\n",
       "      <td>0~4 m/s</td>\n",
       "      <td>슬라브가</td>\n",
       "      <td>근린생활시설</td>\n",
       "      <td>4.0</td>\n",
       "    </tr>\n",
       "    <tr>\n",
       "      <th>6319</th>\n",
       "      <td>1.5</td>\n",
       "      <td>35.0</td>\n",
       "      <td>북서</td>\n",
       "      <td>0~4 m/s</td>\n",
       "      <td>슬라브가</td>\n",
       "      <td>판매시설 및 영업시설</td>\n",
       "      <td>9.0</td>\n",
       "    </tr>\n",
       "    <tr>\n",
       "      <th>6320</th>\n",
       "      <td>4.8</td>\n",
       "      <td>45.0</td>\n",
       "      <td>북서</td>\n",
       "      <td>0~4 m/s</td>\n",
       "      <td>슬라브가</td>\n",
       "      <td>근린생활시설</td>\n",
       "      <td>5.0</td>\n",
       "    </tr>\n",
       "  </tbody>\n",
       "</table>\n",
       "<p>6321 rows × 7 columns</p>\n",
       "</div>"
      ],
      "text/plain": [
       "      소방서거리(㎞)    습도  풍속       풍향 건물구조즙      특정소방대상물  건물층수\n",
       "0          2.1  93.0  북동  0~4 m/s  슬라브가           공장   3.0\n",
       "1          1.3  67.0  북서  0~4 m/s  슬라브가       근린생활시설   5.0\n",
       "2          3.0   0.0  북서  0~4 m/s  슬라브가       근린생활시설   9.0\n",
       "3          2.6  94.0  북동  0~4 m/s  슬라브가           공장   4.0\n",
       "4          3.0  82.0   동  0~4 m/s  슬라브가         공동주택  21.0\n",
       "...        ...   ...  ..      ...   ...          ...   ...\n",
       "6316       2.0  26.0  북서  0~4 m/s  슬라브가       근린생활시설   2.0\n",
       "6317       5.7  36.0   북  0~4 m/s  슬라브가  판매시설 및 영업시설   3.0\n",
       "6318       3.5  82.5   북  0~4 m/s  슬라브가       근린생활시설   4.0\n",
       "6319       1.5  35.0  북서  0~4 m/s  슬라브가  판매시설 및 영업시설   9.0\n",
       "6320       4.8  45.0  북서  0~4 m/s  슬라브가       근린생활시설   5.0\n",
       "\n",
       "[6321 rows x 7 columns]"
      ]
     },
     "execution_count": 27,
     "metadata": {},
     "output_type": "execute_result"
    }
   ],
   "source": [
    "x_original"
   ]
  },
  {
   "cell_type": "code",
   "execution_count": 28,
   "metadata": {},
   "outputs": [
    {
     "data": {
      "text/html": [
       "<div>\n",
       "<style scoped>\n",
       "    .dataframe tbody tr th:only-of-type {\n",
       "        vertical-align: middle;\n",
       "    }\n",
       "\n",
       "    .dataframe tbody tr th {\n",
       "        vertical-align: top;\n",
       "    }\n",
       "\n",
       "    .dataframe thead th {\n",
       "        text-align: right;\n",
       "    }\n",
       "</style>\n",
       "<table border=\"1\" class=\"dataframe\">\n",
       "  <thead>\n",
       "    <tr style=\"text-align: right;\">\n",
       "      <th></th>\n",
       "      <th>소방서거리(㎞)</th>\n",
       "      <th>습도</th>\n",
       "      <th>풍속</th>\n",
       "      <th>풍향</th>\n",
       "      <th>건물구조즙</th>\n",
       "      <th>특정소방대상물</th>\n",
       "      <th>건물층수</th>\n",
       "    </tr>\n",
       "  </thead>\n",
       "  <tbody>\n",
       "    <tr>\n",
       "      <th>0</th>\n",
       "      <td>2.1</td>\n",
       "      <td>93.0</td>\n",
       "      <td>5</td>\n",
       "      <td>0</td>\n",
       "      <td>5</td>\n",
       "      <td>1</td>\n",
       "      <td>3.0</td>\n",
       "    </tr>\n",
       "    <tr>\n",
       "      <th>1</th>\n",
       "      <td>1.3</td>\n",
       "      <td>67.0</td>\n",
       "      <td>6</td>\n",
       "      <td>0</td>\n",
       "      <td>5</td>\n",
       "      <td>5</td>\n",
       "      <td>5.0</td>\n",
       "    </tr>\n",
       "    <tr>\n",
       "      <th>2</th>\n",
       "      <td>3.0</td>\n",
       "      <td>0.0</td>\n",
       "      <td>6</td>\n",
       "      <td>0</td>\n",
       "      <td>5</td>\n",
       "      <td>5</td>\n",
       "      <td>9.0</td>\n",
       "    </tr>\n",
       "    <tr>\n",
       "      <th>3</th>\n",
       "      <td>2.6</td>\n",
       "      <td>94.0</td>\n",
       "      <td>5</td>\n",
       "      <td>0</td>\n",
       "      <td>5</td>\n",
       "      <td>1</td>\n",
       "      <td>4.0</td>\n",
       "    </tr>\n",
       "    <tr>\n",
       "      <th>4</th>\n",
       "      <td>3.0</td>\n",
       "      <td>82.0</td>\n",
       "      <td>3</td>\n",
       "      <td>0</td>\n",
       "      <td>5</td>\n",
       "      <td>0</td>\n",
       "      <td>21.0</td>\n",
       "    </tr>\n",
       "    <tr>\n",
       "      <th>...</th>\n",
       "      <td>...</td>\n",
       "      <td>...</td>\n",
       "      <td>...</td>\n",
       "      <td>...</td>\n",
       "      <td>...</td>\n",
       "      <td>...</td>\n",
       "      <td>...</td>\n",
       "    </tr>\n",
       "    <tr>\n",
       "      <th>6316</th>\n",
       "      <td>2.0</td>\n",
       "      <td>26.0</td>\n",
       "      <td>6</td>\n",
       "      <td>0</td>\n",
       "      <td>5</td>\n",
       "      <td>5</td>\n",
       "      <td>2.0</td>\n",
       "    </tr>\n",
       "    <tr>\n",
       "      <th>6317</th>\n",
       "      <td>5.7</td>\n",
       "      <td>36.0</td>\n",
       "      <td>4</td>\n",
       "      <td>0</td>\n",
       "      <td>5</td>\n",
       "      <td>23</td>\n",
       "      <td>3.0</td>\n",
       "    </tr>\n",
       "    <tr>\n",
       "      <th>6318</th>\n",
       "      <td>3.5</td>\n",
       "      <td>82.5</td>\n",
       "      <td>4</td>\n",
       "      <td>0</td>\n",
       "      <td>5</td>\n",
       "      <td>5</td>\n",
       "      <td>4.0</td>\n",
       "    </tr>\n",
       "    <tr>\n",
       "      <th>6319</th>\n",
       "      <td>1.5</td>\n",
       "      <td>35.0</td>\n",
       "      <td>6</td>\n",
       "      <td>0</td>\n",
       "      <td>5</td>\n",
       "      <td>23</td>\n",
       "      <td>9.0</td>\n",
       "    </tr>\n",
       "    <tr>\n",
       "      <th>6320</th>\n",
       "      <td>4.8</td>\n",
       "      <td>45.0</td>\n",
       "      <td>6</td>\n",
       "      <td>0</td>\n",
       "      <td>5</td>\n",
       "      <td>5</td>\n",
       "      <td>5.0</td>\n",
       "    </tr>\n",
       "  </tbody>\n",
       "</table>\n",
       "<p>6321 rows × 7 columns</p>\n",
       "</div>"
      ],
      "text/plain": [
       "      소방서거리(㎞)    습도  풍속  풍향  건물구조즙  특정소방대상물  건물층수\n",
       "0          2.1  93.0   5   0      5        1   3.0\n",
       "1          1.3  67.0   6   0      5        5   5.0\n",
       "2          3.0   0.0   6   0      5        5   9.0\n",
       "3          2.6  94.0   5   0      5        1   4.0\n",
       "4          3.0  82.0   3   0      5        0  21.0\n",
       "...        ...   ...  ..  ..    ...      ...   ...\n",
       "6316       2.0  26.0   6   0      5        5   2.0\n",
       "6317       5.7  36.0   4   0      5       23   3.0\n",
       "6318       3.5  82.5   4   0      5        5   4.0\n",
       "6319       1.5  35.0   6   0      5       23   9.0\n",
       "6320       4.8  45.0   6   0      5        5   5.0\n",
       "\n",
       "[6321 rows x 7 columns]"
      ]
     },
     "execution_count": 28,
     "metadata": {},
     "output_type": "execute_result"
    }
   ],
   "source": [
    "X"
   ]
  },
  {
   "cell_type": "code",
   "execution_count": 29,
   "metadata": {},
   "outputs": [
    {
     "data": {
      "text/plain": [
       "0       4\n",
       "1       1\n",
       "2       1\n",
       "3       4\n",
       "4       3\n",
       "       ..\n",
       "6316    1\n",
       "6317    2\n",
       "6318    1\n",
       "6319    1\n",
       "6320    3\n",
       "Name: 재산피해소계, Length: 6321, dtype: int64"
      ]
     },
     "execution_count": 29,
     "metadata": {},
     "output_type": "execute_result"
    }
   ],
   "source": [
    "Y"
   ]
  },
  {
   "cell_type": "code",
   "execution_count": null,
   "metadata": {},
   "outputs": [],
   "source": []
  },
  {
   "cell_type": "code",
   "execution_count": 243,
   "metadata": {},
   "outputs": [],
   "source": [
    "#models=[RandomForestClassifier(), SVC()]"
   ]
  },
  {
   "cell_type": "code",
   "execution_count": 244,
   "metadata": {},
   "outputs": [],
   "source": [
    "#scores=[]\n",
    "#accuracy=[]"
   ]
  },
  {
   "cell_type": "code",
   "execution_count": null,
   "metadata": {},
   "outputs": [],
   "source": [
    "#for model in models:\n",
    "#    model.fit(X_train, y_train)\n",
    "#    scores.append(model.score(X_train, y_train))\n",
    "#    y_pred=model.predict(X_test)\n",
    "#    accuracy.append(accuracy_score(y_test, y_pred))\n",
    "#    print(confusion_matrix(y_test,y_pred))\n",
    "#    print(classification_report(y_test, y_pred))"
   ]
  },
  {
   "cell_type": "code",
   "execution_count": 246,
   "metadata": {},
   "outputs": [
    {
     "data": {
      "text/plain": [
       "[0.9995780590717299, 0.35527426160337555]"
      ]
     },
     "execution_count": 246,
     "metadata": {},
     "output_type": "execute_result"
    }
   ],
   "source": [
    "#scores"
   ]
  },
  {
   "cell_type": "code",
   "execution_count": 247,
   "metadata": {},
   "outputs": [
    {
     "data": {
      "text/plain": [
       "[0.34724857685009486, 0.3225806451612903]"
      ]
     },
     "execution_count": 247,
     "metadata": {},
     "output_type": "execute_result"
    }
   ],
   "source": [
    "#accuracy"
   ]
  },
  {
   "cell_type": "code",
   "execution_count": null,
   "metadata": {},
   "outputs": [],
   "source": [
    "#RF_model=RandomForestClassifier(n_estimators=5, random_state=1)"
   ]
  },
  {
   "cell_type": "code",
   "execution_count": 26,
   "metadata": {},
   "outputs": [],
   "source": [
    "RF_model=RandomForestClassifier(bootstrap=True, ccp_alpha=0.0, class_weight='balanced',\n",
    "                                criterion='gini', max_depth=None, max_features='auto',\n",
    "                                min_impurity_decrease=0.0,\n",
    "                                n_estimators=5, random_state=1)"
   ]
  },
  {
   "cell_type": "code",
   "execution_count": 27,
   "metadata": {},
   "outputs": [
    {
     "name": "stdout",
     "output_type": "stream",
     "text": [
      "RandomForest Training accuracy:  0.9263713080168776\n"
     ]
    }
   ],
   "source": [
    "RF_model.fit(X_train,y_train)\n",
    "print('RandomForest Training accuracy: ', RF_model.score(X_train, y_train))"
   ]
  },
  {
   "cell_type": "code",
   "execution_count": 28,
   "metadata": {},
   "outputs": [],
   "source": [
    "SVC_model=SVC(C=10, gamma=0.1)"
   ]
  },
  {
   "cell_type": "code",
   "execution_count": 29,
   "metadata": {},
   "outputs": [
    {
     "name": "stdout",
     "output_type": "stream",
     "text": [
      "SVM Training accuracy:  0.9645569620253165\n"
     ]
    }
   ],
   "source": [
    "#SVC_model=SVC(C=10, gamma=0.1, kernel='poly',degree=3)\n",
    "SVC_model.fit(X_train, y_train)\n",
    "print('SVM Training accuracy: ', SVC_model.score(X_train, y_train))"
   ]
  },
  {
   "cell_type": "code",
   "execution_count": null,
   "metadata": {},
   "outputs": [],
   "source": []
  },
  {
   "cell_type": "markdown",
   "metadata": {},
   "source": [
    "SVM 매개변수 => C, gamma\n",
    "\n",
    "매개변수 선택방법 => grid search\n",
    "\n",
    "grid search: 여러 조합을 테스트하여 가장 좋은 성능을 내는 매개변수를 찾음"
   ]
  },
  {
   "cell_type": "code",
   "execution_count": null,
   "metadata": {},
   "outputs": [],
   "source": [
    "from sklearn.pipeline import make_pipeline\n",
    "clf=make_pipeline(tree, RF_model, SVC_model)\n",
    "clf=\n",
    "clf.fit(X_train, y_train)\n",
    "print('Piepeline model accuracy: ', clf.score(X_train, y_train))"
   ]
  },
  {
   "cell_type": "code",
   "execution_count": null,
   "metadata": {},
   "outputs": [],
   "source": [
    "from sklearn.pipeline import Pipeline\n",
    "pipe=Pipeline([(\"scaler\", MinMaxScaler()), (\"svm\", SVC_model), (\"\")])"
   ]
  },
  {
   "cell_type": "code",
   "execution_count": 37,
   "metadata": {},
   "outputs": [],
   "source": [
    "from sklearn.preprocessing import StandardScaler\n",
    "from sklearn.pipeline import Pipeline\n",
    "\n",
    "pipe_tree=Pipeline([('scl', StandardScaler()), ('clf', tree)])\n",
    "pipe_RF=Pipeline([('scl', StandardScaler()), ('clf', RF_model)])\n",
    "pipe_SVC=Pipeline([('scl', StandardScaler()), ('clf', SVC_model)])"
   ]
  },
  {
   "cell_type": "markdown",
   "metadata": {},
   "source": [
    "Standard Scaler은 Decision Tree에 많은 영향을 안준다."
   ]
  },
  {
   "cell_type": "code",
   "execution_count": 38,
   "metadata": {},
   "outputs": [
    {
     "data": {
      "text/plain": [
       "0.6755274261603376"
      ]
     },
     "execution_count": 38,
     "metadata": {},
     "output_type": "execute_result"
    }
   ],
   "source": [
    "pipe_tree.fit(X_train, y_train)\n",
    "pipe_tree.score(X_train, y_train)"
   ]
  },
  {
   "cell_type": "code",
   "execution_count": 39,
   "metadata": {},
   "outputs": [
    {
     "data": {
      "text/plain": [
       "0.9244725738396624"
      ]
     },
     "execution_count": 39,
     "metadata": {},
     "output_type": "execute_result"
    }
   ],
   "source": [
    "pipe_RF.fit(X_train, y_train)\n",
    "pipe_RF.score(X_train, y_train)"
   ]
  },
  {
   "cell_type": "code",
   "execution_count": 40,
   "metadata": {},
   "outputs": [
    {
     "data": {
      "text/plain": [
       "0.4272151898734177"
      ]
     },
     "execution_count": 40,
     "metadata": {},
     "output_type": "execute_result"
    }
   ],
   "source": [
    "pipe_SVC.fit(X_train, y_train)\n",
    "pipe_SVC.score(X_train, y_train)"
   ]
  },
  {
   "cell_type": "code",
   "execution_count": null,
   "metadata": {},
   "outputs": [],
   "source": []
  },
  {
   "cell_type": "code",
   "execution_count": 44,
   "metadata": {},
   "outputs": [
    {
     "data": {
      "text/plain": [
       "0.9518987341772152"
      ]
     },
     "execution_count": 44,
     "metadata": {},
     "output_type": "execute_result"
    }
   ],
   "source": [
    "from sklearn.ensemble import VotingClassifier\n",
    "voting=VotingClassifier(estimators=[('tr',tree), ('rf', RF_model), ('svc', SVC_model)],\n",
    "                       voting=\"hard\")\n",
    "voting.fit(X_train, y_train)\n",
    "voting.score(X_train, y_train)"
   ]
  },
  {
   "cell_type": "code",
   "execution_count": null,
   "metadata": {},
   "outputs": [],
   "source": []
  }
 ],
 "metadata": {
  "kernelspec": {
   "display_name": "Python 3",
   "language": "python",
   "name": "python3"
  },
  "language_info": {
   "codemirror_mode": {
    "name": "ipython",
    "version": 3
   },
   "file_extension": ".py",
   "mimetype": "text/x-python",
   "name": "python",
   "nbconvert_exporter": "python",
   "pygments_lexer": "ipython3",
   "version": "3.8.5"
  }
 },
 "nbformat": 4,
 "nbformat_minor": 4
}
