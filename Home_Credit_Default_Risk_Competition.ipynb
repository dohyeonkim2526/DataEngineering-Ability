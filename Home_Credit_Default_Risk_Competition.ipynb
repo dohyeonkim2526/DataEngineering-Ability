{
  "nbformat": 4,
  "nbformat_minor": 0,
  "metadata": {
    "colab": {
      "name": "Home_Credit_Default_Risk_Competition.ipynb",
      "provenance": [],
      "collapsed_sections": [],
      "authorship_tag": "ABX9TyNnaw5lOzUVNb/SCCDaHN4c",
      "include_colab_link": true
    },
    "kernelspec": {
      "name": "python3",
      "display_name": "Python 3"
    },
    "language_info": {
      "name": "python"
    }
  },
  "cells": [
    {
      "cell_type": "markdown",
      "metadata": {
        "id": "view-in-github",
        "colab_type": "text"
      },
      "source": [
        "<a href=\"https://colab.research.google.com/github/dohyeonkim2526/DataEngineering-Ability/blob/master/Home_Credit_Default_Risk_Competition.ipynb\" target=\"_parent\"><img src=\"https://colab.research.google.com/assets/colab-badge.svg\" alt=\"Open In Colab\"/></a>"
      ]
    },
    {
      "cell_type": "code",
      "metadata": {
        "id": "TvWT5LcR9uiz"
      },
      "source": [
        "import numpy as np\n",
        "import pandas as pd\n",
        "from sklearn.preprocessing import LabelEncoder\n",
        "import matplotlib.pyplot as plt\n",
        "import seaborn as sns\n",
        "import os\n",
        "import warnings\n",
        "warnings.filterwarnings('ignore')"
      ],
      "execution_count": 25,
      "outputs": []
    },
    {
      "cell_type": "code",
      "metadata": {
        "colab": {
          "base_uri": "https://localhost:8080/"
        },
        "id": "dwtwvh0lM8Qj",
        "outputId": "7216cddc-6aed-4680-a7f5-1b161fa13510"
      },
      "source": [
        "from google.colab import drive\n",
        "drive.mount('/content/drive')"
      ],
      "execution_count": 41,
      "outputs": [
        {
          "output_type": "stream",
          "text": [
            "Mounted at /content/drive\n"
          ],
          "name": "stdout"
        }
      ]
    },
    {
      "cell_type": "code",
      "metadata": {
        "colab": {
          "base_uri": "https://localhost:8080/",
          "height": 328
        },
        "id": "g2NWdTUD-MMl",
        "outputId": "538f526e-0d6a-4958-bf32-4f7aad3fc91f"
      },
      "source": [
        "app_train=pd.read_csv('/content/drive/My Drive/Kaggle Study/data/application_train.csv')\n",
        "print('Training data shape: ', app_train.shape)\n",
        "app_train.head()"
      ],
      "execution_count": 68,
      "outputs": [
        {
          "output_type": "stream",
          "text": [
            "Training data shape:  (307511, 122)\n"
          ],
          "name": "stdout"
        },
        {
          "output_type": "execute_result",
          "data": {
            "text/html": [
              "<div>\n",
              "<style scoped>\n",
              "    .dataframe tbody tr th:only-of-type {\n",
              "        vertical-align: middle;\n",
              "    }\n",
              "\n",
              "    .dataframe tbody tr th {\n",
              "        vertical-align: top;\n",
              "    }\n",
              "\n",
              "    .dataframe thead th {\n",
              "        text-align: right;\n",
              "    }\n",
              "</style>\n",
              "<table border=\"1\" class=\"dataframe\">\n",
              "  <thead>\n",
              "    <tr style=\"text-align: right;\">\n",
              "      <th></th>\n",
              "      <th>SK_ID_CURR</th>\n",
              "      <th>TARGET</th>\n",
              "      <th>NAME_CONTRACT_TYPE</th>\n",
              "      <th>CODE_GENDER</th>\n",
              "      <th>FLAG_OWN_CAR</th>\n",
              "      <th>FLAG_OWN_REALTY</th>\n",
              "      <th>CNT_CHILDREN</th>\n",
              "      <th>AMT_INCOME_TOTAL</th>\n",
              "      <th>AMT_CREDIT</th>\n",
              "      <th>AMT_ANNUITY</th>\n",
              "      <th>AMT_GOODS_PRICE</th>\n",
              "      <th>NAME_TYPE_SUITE</th>\n",
              "      <th>NAME_INCOME_TYPE</th>\n",
              "      <th>NAME_EDUCATION_TYPE</th>\n",
              "      <th>NAME_FAMILY_STATUS</th>\n",
              "      <th>NAME_HOUSING_TYPE</th>\n",
              "      <th>REGION_POPULATION_RELATIVE</th>\n",
              "      <th>DAYS_BIRTH</th>\n",
              "      <th>DAYS_EMPLOYED</th>\n",
              "      <th>DAYS_REGISTRATION</th>\n",
              "      <th>DAYS_ID_PUBLISH</th>\n",
              "      <th>OWN_CAR_AGE</th>\n",
              "      <th>FLAG_MOBIL</th>\n",
              "      <th>FLAG_EMP_PHONE</th>\n",
              "      <th>FLAG_WORK_PHONE</th>\n",
              "      <th>FLAG_CONT_MOBILE</th>\n",
              "      <th>FLAG_PHONE</th>\n",
              "      <th>FLAG_EMAIL</th>\n",
              "      <th>OCCUPATION_TYPE</th>\n",
              "      <th>CNT_FAM_MEMBERS</th>\n",
              "      <th>REGION_RATING_CLIENT</th>\n",
              "      <th>REGION_RATING_CLIENT_W_CITY</th>\n",
              "      <th>WEEKDAY_APPR_PROCESS_START</th>\n",
              "      <th>HOUR_APPR_PROCESS_START</th>\n",
              "      <th>REG_REGION_NOT_LIVE_REGION</th>\n",
              "      <th>REG_REGION_NOT_WORK_REGION</th>\n",
              "      <th>LIVE_REGION_NOT_WORK_REGION</th>\n",
              "      <th>REG_CITY_NOT_LIVE_CITY</th>\n",
              "      <th>REG_CITY_NOT_WORK_CITY</th>\n",
              "      <th>LIVE_CITY_NOT_WORK_CITY</th>\n",
              "      <th>...</th>\n",
              "      <th>LIVINGAPARTMENTS_MEDI</th>\n",
              "      <th>LIVINGAREA_MEDI</th>\n",
              "      <th>NONLIVINGAPARTMENTS_MEDI</th>\n",
              "      <th>NONLIVINGAREA_MEDI</th>\n",
              "      <th>FONDKAPREMONT_MODE</th>\n",
              "      <th>HOUSETYPE_MODE</th>\n",
              "      <th>TOTALAREA_MODE</th>\n",
              "      <th>WALLSMATERIAL_MODE</th>\n",
              "      <th>EMERGENCYSTATE_MODE</th>\n",
              "      <th>OBS_30_CNT_SOCIAL_CIRCLE</th>\n",
              "      <th>DEF_30_CNT_SOCIAL_CIRCLE</th>\n",
              "      <th>OBS_60_CNT_SOCIAL_CIRCLE</th>\n",
              "      <th>DEF_60_CNT_SOCIAL_CIRCLE</th>\n",
              "      <th>DAYS_LAST_PHONE_CHANGE</th>\n",
              "      <th>FLAG_DOCUMENT_2</th>\n",
              "      <th>FLAG_DOCUMENT_3</th>\n",
              "      <th>FLAG_DOCUMENT_4</th>\n",
              "      <th>FLAG_DOCUMENT_5</th>\n",
              "      <th>FLAG_DOCUMENT_6</th>\n",
              "      <th>FLAG_DOCUMENT_7</th>\n",
              "      <th>FLAG_DOCUMENT_8</th>\n",
              "      <th>FLAG_DOCUMENT_9</th>\n",
              "      <th>FLAG_DOCUMENT_10</th>\n",
              "      <th>FLAG_DOCUMENT_11</th>\n",
              "      <th>FLAG_DOCUMENT_12</th>\n",
              "      <th>FLAG_DOCUMENT_13</th>\n",
              "      <th>FLAG_DOCUMENT_14</th>\n",
              "      <th>FLAG_DOCUMENT_15</th>\n",
              "      <th>FLAG_DOCUMENT_16</th>\n",
              "      <th>FLAG_DOCUMENT_17</th>\n",
              "      <th>FLAG_DOCUMENT_18</th>\n",
              "      <th>FLAG_DOCUMENT_19</th>\n",
              "      <th>FLAG_DOCUMENT_20</th>\n",
              "      <th>FLAG_DOCUMENT_21</th>\n",
              "      <th>AMT_REQ_CREDIT_BUREAU_HOUR</th>\n",
              "      <th>AMT_REQ_CREDIT_BUREAU_DAY</th>\n",
              "      <th>AMT_REQ_CREDIT_BUREAU_WEEK</th>\n",
              "      <th>AMT_REQ_CREDIT_BUREAU_MON</th>\n",
              "      <th>AMT_REQ_CREDIT_BUREAU_QRT</th>\n",
              "      <th>AMT_REQ_CREDIT_BUREAU_YEAR</th>\n",
              "    </tr>\n",
              "  </thead>\n",
              "  <tbody>\n",
              "    <tr>\n",
              "      <th>0</th>\n",
              "      <td>100002</td>\n",
              "      <td>1</td>\n",
              "      <td>Cash loans</td>\n",
              "      <td>M</td>\n",
              "      <td>N</td>\n",
              "      <td>Y</td>\n",
              "      <td>0</td>\n",
              "      <td>202500.0</td>\n",
              "      <td>406597.5</td>\n",
              "      <td>24700.5</td>\n",
              "      <td>351000.0</td>\n",
              "      <td>Unaccompanied</td>\n",
              "      <td>Working</td>\n",
              "      <td>Secondary / secondary special</td>\n",
              "      <td>Single / not married</td>\n",
              "      <td>House / apartment</td>\n",
              "      <td>0.018801</td>\n",
              "      <td>-9461</td>\n",
              "      <td>-637</td>\n",
              "      <td>-3648.0</td>\n",
              "      <td>-2120</td>\n",
              "      <td>NaN</td>\n",
              "      <td>1</td>\n",
              "      <td>1</td>\n",
              "      <td>0</td>\n",
              "      <td>1</td>\n",
              "      <td>1</td>\n",
              "      <td>0</td>\n",
              "      <td>Laborers</td>\n",
              "      <td>1.0</td>\n",
              "      <td>2</td>\n",
              "      <td>2</td>\n",
              "      <td>WEDNESDAY</td>\n",
              "      <td>10</td>\n",
              "      <td>0</td>\n",
              "      <td>0</td>\n",
              "      <td>0</td>\n",
              "      <td>0</td>\n",
              "      <td>0</td>\n",
              "      <td>0</td>\n",
              "      <td>...</td>\n",
              "      <td>0.0205</td>\n",
              "      <td>0.0193</td>\n",
              "      <td>0.0000</td>\n",
              "      <td>0.00</td>\n",
              "      <td>reg oper account</td>\n",
              "      <td>block of flats</td>\n",
              "      <td>0.0149</td>\n",
              "      <td>Stone, brick</td>\n",
              "      <td>No</td>\n",
              "      <td>2.0</td>\n",
              "      <td>2.0</td>\n",
              "      <td>2.0</td>\n",
              "      <td>2.0</td>\n",
              "      <td>-1134.0</td>\n",
              "      <td>0</td>\n",
              "      <td>1</td>\n",
              "      <td>0</td>\n",
              "      <td>0</td>\n",
              "      <td>0</td>\n",
              "      <td>0</td>\n",
              "      <td>0</td>\n",
              "      <td>0</td>\n",
              "      <td>0</td>\n",
              "      <td>0</td>\n",
              "      <td>0</td>\n",
              "      <td>0</td>\n",
              "      <td>0</td>\n",
              "      <td>0</td>\n",
              "      <td>0</td>\n",
              "      <td>0</td>\n",
              "      <td>0</td>\n",
              "      <td>0</td>\n",
              "      <td>0</td>\n",
              "      <td>0</td>\n",
              "      <td>0.0</td>\n",
              "      <td>0.0</td>\n",
              "      <td>0.0</td>\n",
              "      <td>0.0</td>\n",
              "      <td>0.0</td>\n",
              "      <td>1.0</td>\n",
              "    </tr>\n",
              "    <tr>\n",
              "      <th>1</th>\n",
              "      <td>100003</td>\n",
              "      <td>0</td>\n",
              "      <td>Cash loans</td>\n",
              "      <td>F</td>\n",
              "      <td>N</td>\n",
              "      <td>N</td>\n",
              "      <td>0</td>\n",
              "      <td>270000.0</td>\n",
              "      <td>1293502.5</td>\n",
              "      <td>35698.5</td>\n",
              "      <td>1129500.0</td>\n",
              "      <td>Family</td>\n",
              "      <td>State servant</td>\n",
              "      <td>Higher education</td>\n",
              "      <td>Married</td>\n",
              "      <td>House / apartment</td>\n",
              "      <td>0.003541</td>\n",
              "      <td>-16765</td>\n",
              "      <td>-1188</td>\n",
              "      <td>-1186.0</td>\n",
              "      <td>-291</td>\n",
              "      <td>NaN</td>\n",
              "      <td>1</td>\n",
              "      <td>1</td>\n",
              "      <td>0</td>\n",
              "      <td>1</td>\n",
              "      <td>1</td>\n",
              "      <td>0</td>\n",
              "      <td>Core staff</td>\n",
              "      <td>2.0</td>\n",
              "      <td>1</td>\n",
              "      <td>1</td>\n",
              "      <td>MONDAY</td>\n",
              "      <td>11</td>\n",
              "      <td>0</td>\n",
              "      <td>0</td>\n",
              "      <td>0</td>\n",
              "      <td>0</td>\n",
              "      <td>0</td>\n",
              "      <td>0</td>\n",
              "      <td>...</td>\n",
              "      <td>0.0787</td>\n",
              "      <td>0.0558</td>\n",
              "      <td>0.0039</td>\n",
              "      <td>0.01</td>\n",
              "      <td>reg oper account</td>\n",
              "      <td>block of flats</td>\n",
              "      <td>0.0714</td>\n",
              "      <td>Block</td>\n",
              "      <td>No</td>\n",
              "      <td>1.0</td>\n",
              "      <td>0.0</td>\n",
              "      <td>1.0</td>\n",
              "      <td>0.0</td>\n",
              "      <td>-828.0</td>\n",
              "      <td>0</td>\n",
              "      <td>1</td>\n",
              "      <td>0</td>\n",
              "      <td>0</td>\n",
              "      <td>0</td>\n",
              "      <td>0</td>\n",
              "      <td>0</td>\n",
              "      <td>0</td>\n",
              "      <td>0</td>\n",
              "      <td>0</td>\n",
              "      <td>0</td>\n",
              "      <td>0</td>\n",
              "      <td>0</td>\n",
              "      <td>0</td>\n",
              "      <td>0</td>\n",
              "      <td>0</td>\n",
              "      <td>0</td>\n",
              "      <td>0</td>\n",
              "      <td>0</td>\n",
              "      <td>0</td>\n",
              "      <td>0.0</td>\n",
              "      <td>0.0</td>\n",
              "      <td>0.0</td>\n",
              "      <td>0.0</td>\n",
              "      <td>0.0</td>\n",
              "      <td>0.0</td>\n",
              "    </tr>\n",
              "    <tr>\n",
              "      <th>2</th>\n",
              "      <td>100004</td>\n",
              "      <td>0</td>\n",
              "      <td>Revolving loans</td>\n",
              "      <td>M</td>\n",
              "      <td>Y</td>\n",
              "      <td>Y</td>\n",
              "      <td>0</td>\n",
              "      <td>67500.0</td>\n",
              "      <td>135000.0</td>\n",
              "      <td>6750.0</td>\n",
              "      <td>135000.0</td>\n",
              "      <td>Unaccompanied</td>\n",
              "      <td>Working</td>\n",
              "      <td>Secondary / secondary special</td>\n",
              "      <td>Single / not married</td>\n",
              "      <td>House / apartment</td>\n",
              "      <td>0.010032</td>\n",
              "      <td>-19046</td>\n",
              "      <td>-225</td>\n",
              "      <td>-4260.0</td>\n",
              "      <td>-2531</td>\n",
              "      <td>26.0</td>\n",
              "      <td>1</td>\n",
              "      <td>1</td>\n",
              "      <td>1</td>\n",
              "      <td>1</td>\n",
              "      <td>1</td>\n",
              "      <td>0</td>\n",
              "      <td>Laborers</td>\n",
              "      <td>1.0</td>\n",
              "      <td>2</td>\n",
              "      <td>2</td>\n",
              "      <td>MONDAY</td>\n",
              "      <td>9</td>\n",
              "      <td>0</td>\n",
              "      <td>0</td>\n",
              "      <td>0</td>\n",
              "      <td>0</td>\n",
              "      <td>0</td>\n",
              "      <td>0</td>\n",
              "      <td>...</td>\n",
              "      <td>NaN</td>\n",
              "      <td>NaN</td>\n",
              "      <td>NaN</td>\n",
              "      <td>NaN</td>\n",
              "      <td>NaN</td>\n",
              "      <td>NaN</td>\n",
              "      <td>NaN</td>\n",
              "      <td>NaN</td>\n",
              "      <td>NaN</td>\n",
              "      <td>0.0</td>\n",
              "      <td>0.0</td>\n",
              "      <td>0.0</td>\n",
              "      <td>0.0</td>\n",
              "      <td>-815.0</td>\n",
              "      <td>0</td>\n",
              "      <td>0</td>\n",
              "      <td>0</td>\n",
              "      <td>0</td>\n",
              "      <td>0</td>\n",
              "      <td>0</td>\n",
              "      <td>0</td>\n",
              "      <td>0</td>\n",
              "      <td>0</td>\n",
              "      <td>0</td>\n",
              "      <td>0</td>\n",
              "      <td>0</td>\n",
              "      <td>0</td>\n",
              "      <td>0</td>\n",
              "      <td>0</td>\n",
              "      <td>0</td>\n",
              "      <td>0</td>\n",
              "      <td>0</td>\n",
              "      <td>0</td>\n",
              "      <td>0</td>\n",
              "      <td>0.0</td>\n",
              "      <td>0.0</td>\n",
              "      <td>0.0</td>\n",
              "      <td>0.0</td>\n",
              "      <td>0.0</td>\n",
              "      <td>0.0</td>\n",
              "    </tr>\n",
              "    <tr>\n",
              "      <th>3</th>\n",
              "      <td>100006</td>\n",
              "      <td>0</td>\n",
              "      <td>Cash loans</td>\n",
              "      <td>F</td>\n",
              "      <td>N</td>\n",
              "      <td>Y</td>\n",
              "      <td>0</td>\n",
              "      <td>135000.0</td>\n",
              "      <td>312682.5</td>\n",
              "      <td>29686.5</td>\n",
              "      <td>297000.0</td>\n",
              "      <td>Unaccompanied</td>\n",
              "      <td>Working</td>\n",
              "      <td>Secondary / secondary special</td>\n",
              "      <td>Civil marriage</td>\n",
              "      <td>House / apartment</td>\n",
              "      <td>0.008019</td>\n",
              "      <td>-19005</td>\n",
              "      <td>-3039</td>\n",
              "      <td>-9833.0</td>\n",
              "      <td>-2437</td>\n",
              "      <td>NaN</td>\n",
              "      <td>1</td>\n",
              "      <td>1</td>\n",
              "      <td>0</td>\n",
              "      <td>1</td>\n",
              "      <td>0</td>\n",
              "      <td>0</td>\n",
              "      <td>Laborers</td>\n",
              "      <td>2.0</td>\n",
              "      <td>2</td>\n",
              "      <td>2</td>\n",
              "      <td>WEDNESDAY</td>\n",
              "      <td>17</td>\n",
              "      <td>0</td>\n",
              "      <td>0</td>\n",
              "      <td>0</td>\n",
              "      <td>0</td>\n",
              "      <td>0</td>\n",
              "      <td>0</td>\n",
              "      <td>...</td>\n",
              "      <td>NaN</td>\n",
              "      <td>NaN</td>\n",
              "      <td>NaN</td>\n",
              "      <td>NaN</td>\n",
              "      <td>NaN</td>\n",
              "      <td>NaN</td>\n",
              "      <td>NaN</td>\n",
              "      <td>NaN</td>\n",
              "      <td>NaN</td>\n",
              "      <td>2.0</td>\n",
              "      <td>0.0</td>\n",
              "      <td>2.0</td>\n",
              "      <td>0.0</td>\n",
              "      <td>-617.0</td>\n",
              "      <td>0</td>\n",
              "      <td>1</td>\n",
              "      <td>0</td>\n",
              "      <td>0</td>\n",
              "      <td>0</td>\n",
              "      <td>0</td>\n",
              "      <td>0</td>\n",
              "      <td>0</td>\n",
              "      <td>0</td>\n",
              "      <td>0</td>\n",
              "      <td>0</td>\n",
              "      <td>0</td>\n",
              "      <td>0</td>\n",
              "      <td>0</td>\n",
              "      <td>0</td>\n",
              "      <td>0</td>\n",
              "      <td>0</td>\n",
              "      <td>0</td>\n",
              "      <td>0</td>\n",
              "      <td>0</td>\n",
              "      <td>NaN</td>\n",
              "      <td>NaN</td>\n",
              "      <td>NaN</td>\n",
              "      <td>NaN</td>\n",
              "      <td>NaN</td>\n",
              "      <td>NaN</td>\n",
              "    </tr>\n",
              "    <tr>\n",
              "      <th>4</th>\n",
              "      <td>100007</td>\n",
              "      <td>0</td>\n",
              "      <td>Cash loans</td>\n",
              "      <td>M</td>\n",
              "      <td>N</td>\n",
              "      <td>Y</td>\n",
              "      <td>0</td>\n",
              "      <td>121500.0</td>\n",
              "      <td>513000.0</td>\n",
              "      <td>21865.5</td>\n",
              "      <td>513000.0</td>\n",
              "      <td>Unaccompanied</td>\n",
              "      <td>Working</td>\n",
              "      <td>Secondary / secondary special</td>\n",
              "      <td>Single / not married</td>\n",
              "      <td>House / apartment</td>\n",
              "      <td>0.028663</td>\n",
              "      <td>-19932</td>\n",
              "      <td>-3038</td>\n",
              "      <td>-4311.0</td>\n",
              "      <td>-3458</td>\n",
              "      <td>NaN</td>\n",
              "      <td>1</td>\n",
              "      <td>1</td>\n",
              "      <td>0</td>\n",
              "      <td>1</td>\n",
              "      <td>0</td>\n",
              "      <td>0</td>\n",
              "      <td>Core staff</td>\n",
              "      <td>1.0</td>\n",
              "      <td>2</td>\n",
              "      <td>2</td>\n",
              "      <td>THURSDAY</td>\n",
              "      <td>11</td>\n",
              "      <td>0</td>\n",
              "      <td>0</td>\n",
              "      <td>0</td>\n",
              "      <td>0</td>\n",
              "      <td>1</td>\n",
              "      <td>1</td>\n",
              "      <td>...</td>\n",
              "      <td>NaN</td>\n",
              "      <td>NaN</td>\n",
              "      <td>NaN</td>\n",
              "      <td>NaN</td>\n",
              "      <td>NaN</td>\n",
              "      <td>NaN</td>\n",
              "      <td>NaN</td>\n",
              "      <td>NaN</td>\n",
              "      <td>NaN</td>\n",
              "      <td>0.0</td>\n",
              "      <td>0.0</td>\n",
              "      <td>0.0</td>\n",
              "      <td>0.0</td>\n",
              "      <td>-1106.0</td>\n",
              "      <td>0</td>\n",
              "      <td>0</td>\n",
              "      <td>0</td>\n",
              "      <td>0</td>\n",
              "      <td>0</td>\n",
              "      <td>0</td>\n",
              "      <td>1</td>\n",
              "      <td>0</td>\n",
              "      <td>0</td>\n",
              "      <td>0</td>\n",
              "      <td>0</td>\n",
              "      <td>0</td>\n",
              "      <td>0</td>\n",
              "      <td>0</td>\n",
              "      <td>0</td>\n",
              "      <td>0</td>\n",
              "      <td>0</td>\n",
              "      <td>0</td>\n",
              "      <td>0</td>\n",
              "      <td>0</td>\n",
              "      <td>0.0</td>\n",
              "      <td>0.0</td>\n",
              "      <td>0.0</td>\n",
              "      <td>0.0</td>\n",
              "      <td>0.0</td>\n",
              "      <td>0.0</td>\n",
              "    </tr>\n",
              "  </tbody>\n",
              "</table>\n",
              "<p>5 rows × 122 columns</p>\n",
              "</div>"
            ],
            "text/plain": [
              "   SK_ID_CURR  TARGET  ... AMT_REQ_CREDIT_BUREAU_QRT AMT_REQ_CREDIT_BUREAU_YEAR\n",
              "0      100002       1  ...                       0.0                        1.0\n",
              "1      100003       0  ...                       0.0                        0.0\n",
              "2      100004       0  ...                       0.0                        0.0\n",
              "3      100006       0  ...                       NaN                        NaN\n",
              "4      100007       0  ...                       0.0                        0.0\n",
              "\n",
              "[5 rows x 122 columns]"
            ]
          },
          "metadata": {
            "tags": []
          },
          "execution_count": 68
        }
      ]
    },
    {
      "cell_type": "code",
      "metadata": {
        "id": "9xHwGJmi-nuf",
        "colab": {
          "base_uri": "https://localhost:8080/",
          "height": 312
        },
        "outputId": "70422531-1a70-4445-b880-0994b55601d5"
      },
      "source": [
        "app_test=pd.read_csv('/content/drive/My Drive/Kaggle Study/data/application_test.csv')\n",
        "print('Testing data shape: ', app_test.shape)\n",
        "app_test.head()"
      ],
      "execution_count": 69,
      "outputs": [
        {
          "output_type": "stream",
          "text": [
            "Testing data shape:  (48744, 121)\n"
          ],
          "name": "stdout"
        },
        {
          "output_type": "execute_result",
          "data": {
            "text/html": [
              "<div>\n",
              "<style scoped>\n",
              "    .dataframe tbody tr th:only-of-type {\n",
              "        vertical-align: middle;\n",
              "    }\n",
              "\n",
              "    .dataframe tbody tr th {\n",
              "        vertical-align: top;\n",
              "    }\n",
              "\n",
              "    .dataframe thead th {\n",
              "        text-align: right;\n",
              "    }\n",
              "</style>\n",
              "<table border=\"1\" class=\"dataframe\">\n",
              "  <thead>\n",
              "    <tr style=\"text-align: right;\">\n",
              "      <th></th>\n",
              "      <th>SK_ID_CURR</th>\n",
              "      <th>NAME_CONTRACT_TYPE</th>\n",
              "      <th>CODE_GENDER</th>\n",
              "      <th>FLAG_OWN_CAR</th>\n",
              "      <th>FLAG_OWN_REALTY</th>\n",
              "      <th>CNT_CHILDREN</th>\n",
              "      <th>AMT_INCOME_TOTAL</th>\n",
              "      <th>AMT_CREDIT</th>\n",
              "      <th>AMT_ANNUITY</th>\n",
              "      <th>AMT_GOODS_PRICE</th>\n",
              "      <th>NAME_TYPE_SUITE</th>\n",
              "      <th>NAME_INCOME_TYPE</th>\n",
              "      <th>NAME_EDUCATION_TYPE</th>\n",
              "      <th>NAME_FAMILY_STATUS</th>\n",
              "      <th>NAME_HOUSING_TYPE</th>\n",
              "      <th>REGION_POPULATION_RELATIVE</th>\n",
              "      <th>DAYS_BIRTH</th>\n",
              "      <th>DAYS_EMPLOYED</th>\n",
              "      <th>DAYS_REGISTRATION</th>\n",
              "      <th>DAYS_ID_PUBLISH</th>\n",
              "      <th>OWN_CAR_AGE</th>\n",
              "      <th>FLAG_MOBIL</th>\n",
              "      <th>FLAG_EMP_PHONE</th>\n",
              "      <th>FLAG_WORK_PHONE</th>\n",
              "      <th>FLAG_CONT_MOBILE</th>\n",
              "      <th>FLAG_PHONE</th>\n",
              "      <th>FLAG_EMAIL</th>\n",
              "      <th>OCCUPATION_TYPE</th>\n",
              "      <th>CNT_FAM_MEMBERS</th>\n",
              "      <th>REGION_RATING_CLIENT</th>\n",
              "      <th>REGION_RATING_CLIENT_W_CITY</th>\n",
              "      <th>WEEKDAY_APPR_PROCESS_START</th>\n",
              "      <th>HOUR_APPR_PROCESS_START</th>\n",
              "      <th>REG_REGION_NOT_LIVE_REGION</th>\n",
              "      <th>REG_REGION_NOT_WORK_REGION</th>\n",
              "      <th>LIVE_REGION_NOT_WORK_REGION</th>\n",
              "      <th>REG_CITY_NOT_LIVE_CITY</th>\n",
              "      <th>REG_CITY_NOT_WORK_CITY</th>\n",
              "      <th>LIVE_CITY_NOT_WORK_CITY</th>\n",
              "      <th>ORGANIZATION_TYPE</th>\n",
              "      <th>...</th>\n",
              "      <th>LIVINGAPARTMENTS_MEDI</th>\n",
              "      <th>LIVINGAREA_MEDI</th>\n",
              "      <th>NONLIVINGAPARTMENTS_MEDI</th>\n",
              "      <th>NONLIVINGAREA_MEDI</th>\n",
              "      <th>FONDKAPREMONT_MODE</th>\n",
              "      <th>HOUSETYPE_MODE</th>\n",
              "      <th>TOTALAREA_MODE</th>\n",
              "      <th>WALLSMATERIAL_MODE</th>\n",
              "      <th>EMERGENCYSTATE_MODE</th>\n",
              "      <th>OBS_30_CNT_SOCIAL_CIRCLE</th>\n",
              "      <th>DEF_30_CNT_SOCIAL_CIRCLE</th>\n",
              "      <th>OBS_60_CNT_SOCIAL_CIRCLE</th>\n",
              "      <th>DEF_60_CNT_SOCIAL_CIRCLE</th>\n",
              "      <th>DAYS_LAST_PHONE_CHANGE</th>\n",
              "      <th>FLAG_DOCUMENT_2</th>\n",
              "      <th>FLAG_DOCUMENT_3</th>\n",
              "      <th>FLAG_DOCUMENT_4</th>\n",
              "      <th>FLAG_DOCUMENT_5</th>\n",
              "      <th>FLAG_DOCUMENT_6</th>\n",
              "      <th>FLAG_DOCUMENT_7</th>\n",
              "      <th>FLAG_DOCUMENT_8</th>\n",
              "      <th>FLAG_DOCUMENT_9</th>\n",
              "      <th>FLAG_DOCUMENT_10</th>\n",
              "      <th>FLAG_DOCUMENT_11</th>\n",
              "      <th>FLAG_DOCUMENT_12</th>\n",
              "      <th>FLAG_DOCUMENT_13</th>\n",
              "      <th>FLAG_DOCUMENT_14</th>\n",
              "      <th>FLAG_DOCUMENT_15</th>\n",
              "      <th>FLAG_DOCUMENT_16</th>\n",
              "      <th>FLAG_DOCUMENT_17</th>\n",
              "      <th>FLAG_DOCUMENT_18</th>\n",
              "      <th>FLAG_DOCUMENT_19</th>\n",
              "      <th>FLAG_DOCUMENT_20</th>\n",
              "      <th>FLAG_DOCUMENT_21</th>\n",
              "      <th>AMT_REQ_CREDIT_BUREAU_HOUR</th>\n",
              "      <th>AMT_REQ_CREDIT_BUREAU_DAY</th>\n",
              "      <th>AMT_REQ_CREDIT_BUREAU_WEEK</th>\n",
              "      <th>AMT_REQ_CREDIT_BUREAU_MON</th>\n",
              "      <th>AMT_REQ_CREDIT_BUREAU_QRT</th>\n",
              "      <th>AMT_REQ_CREDIT_BUREAU_YEAR</th>\n",
              "    </tr>\n",
              "  </thead>\n",
              "  <tbody>\n",
              "    <tr>\n",
              "      <th>0</th>\n",
              "      <td>100001</td>\n",
              "      <td>Cash loans</td>\n",
              "      <td>F</td>\n",
              "      <td>N</td>\n",
              "      <td>Y</td>\n",
              "      <td>0</td>\n",
              "      <td>135000.0</td>\n",
              "      <td>568800.0</td>\n",
              "      <td>20560.5</td>\n",
              "      <td>450000.0</td>\n",
              "      <td>Unaccompanied</td>\n",
              "      <td>Working</td>\n",
              "      <td>Higher education</td>\n",
              "      <td>Married</td>\n",
              "      <td>House / apartment</td>\n",
              "      <td>0.018850</td>\n",
              "      <td>-19241</td>\n",
              "      <td>-2329</td>\n",
              "      <td>-5170.0</td>\n",
              "      <td>-812</td>\n",
              "      <td>NaN</td>\n",
              "      <td>1</td>\n",
              "      <td>1</td>\n",
              "      <td>0</td>\n",
              "      <td>1</td>\n",
              "      <td>0</td>\n",
              "      <td>1</td>\n",
              "      <td>NaN</td>\n",
              "      <td>2.0</td>\n",
              "      <td>2</td>\n",
              "      <td>2</td>\n",
              "      <td>TUESDAY</td>\n",
              "      <td>18</td>\n",
              "      <td>0</td>\n",
              "      <td>0</td>\n",
              "      <td>0</td>\n",
              "      <td>0</td>\n",
              "      <td>0</td>\n",
              "      <td>0</td>\n",
              "      <td>Kindergarten</td>\n",
              "      <td>...</td>\n",
              "      <td>NaN</td>\n",
              "      <td>0.0514</td>\n",
              "      <td>NaN</td>\n",
              "      <td>NaN</td>\n",
              "      <td>NaN</td>\n",
              "      <td>block of flats</td>\n",
              "      <td>0.0392</td>\n",
              "      <td>Stone, brick</td>\n",
              "      <td>No</td>\n",
              "      <td>0.0</td>\n",
              "      <td>0.0</td>\n",
              "      <td>0.0</td>\n",
              "      <td>0.0</td>\n",
              "      <td>-1740.0</td>\n",
              "      <td>0</td>\n",
              "      <td>1</td>\n",
              "      <td>0</td>\n",
              "      <td>0</td>\n",
              "      <td>0</td>\n",
              "      <td>0</td>\n",
              "      <td>0</td>\n",
              "      <td>0</td>\n",
              "      <td>0</td>\n",
              "      <td>0</td>\n",
              "      <td>0</td>\n",
              "      <td>0</td>\n",
              "      <td>0</td>\n",
              "      <td>0</td>\n",
              "      <td>0</td>\n",
              "      <td>0</td>\n",
              "      <td>0</td>\n",
              "      <td>0</td>\n",
              "      <td>0</td>\n",
              "      <td>0</td>\n",
              "      <td>0.0</td>\n",
              "      <td>0.0</td>\n",
              "      <td>0.0</td>\n",
              "      <td>0.0</td>\n",
              "      <td>0.0</td>\n",
              "      <td>0.0</td>\n",
              "    </tr>\n",
              "    <tr>\n",
              "      <th>1</th>\n",
              "      <td>100005</td>\n",
              "      <td>Cash loans</td>\n",
              "      <td>M</td>\n",
              "      <td>N</td>\n",
              "      <td>Y</td>\n",
              "      <td>0</td>\n",
              "      <td>99000.0</td>\n",
              "      <td>222768.0</td>\n",
              "      <td>17370.0</td>\n",
              "      <td>180000.0</td>\n",
              "      <td>Unaccompanied</td>\n",
              "      <td>Working</td>\n",
              "      <td>Secondary / secondary special</td>\n",
              "      <td>Married</td>\n",
              "      <td>House / apartment</td>\n",
              "      <td>0.035792</td>\n",
              "      <td>-18064</td>\n",
              "      <td>-4469</td>\n",
              "      <td>-9118.0</td>\n",
              "      <td>-1623</td>\n",
              "      <td>NaN</td>\n",
              "      <td>1</td>\n",
              "      <td>1</td>\n",
              "      <td>0</td>\n",
              "      <td>1</td>\n",
              "      <td>0</td>\n",
              "      <td>0</td>\n",
              "      <td>Low-skill Laborers</td>\n",
              "      <td>2.0</td>\n",
              "      <td>2</td>\n",
              "      <td>2</td>\n",
              "      <td>FRIDAY</td>\n",
              "      <td>9</td>\n",
              "      <td>0</td>\n",
              "      <td>0</td>\n",
              "      <td>0</td>\n",
              "      <td>0</td>\n",
              "      <td>0</td>\n",
              "      <td>0</td>\n",
              "      <td>Self-employed</td>\n",
              "      <td>...</td>\n",
              "      <td>NaN</td>\n",
              "      <td>NaN</td>\n",
              "      <td>NaN</td>\n",
              "      <td>NaN</td>\n",
              "      <td>NaN</td>\n",
              "      <td>NaN</td>\n",
              "      <td>NaN</td>\n",
              "      <td>NaN</td>\n",
              "      <td>NaN</td>\n",
              "      <td>0.0</td>\n",
              "      <td>0.0</td>\n",
              "      <td>0.0</td>\n",
              "      <td>0.0</td>\n",
              "      <td>0.0</td>\n",
              "      <td>0</td>\n",
              "      <td>1</td>\n",
              "      <td>0</td>\n",
              "      <td>0</td>\n",
              "      <td>0</td>\n",
              "      <td>0</td>\n",
              "      <td>0</td>\n",
              "      <td>0</td>\n",
              "      <td>0</td>\n",
              "      <td>0</td>\n",
              "      <td>0</td>\n",
              "      <td>0</td>\n",
              "      <td>0</td>\n",
              "      <td>0</td>\n",
              "      <td>0</td>\n",
              "      <td>0</td>\n",
              "      <td>0</td>\n",
              "      <td>0</td>\n",
              "      <td>0</td>\n",
              "      <td>0</td>\n",
              "      <td>0.0</td>\n",
              "      <td>0.0</td>\n",
              "      <td>0.0</td>\n",
              "      <td>0.0</td>\n",
              "      <td>0.0</td>\n",
              "      <td>3.0</td>\n",
              "    </tr>\n",
              "    <tr>\n",
              "      <th>2</th>\n",
              "      <td>100013</td>\n",
              "      <td>Cash loans</td>\n",
              "      <td>M</td>\n",
              "      <td>Y</td>\n",
              "      <td>Y</td>\n",
              "      <td>0</td>\n",
              "      <td>202500.0</td>\n",
              "      <td>663264.0</td>\n",
              "      <td>69777.0</td>\n",
              "      <td>630000.0</td>\n",
              "      <td>NaN</td>\n",
              "      <td>Working</td>\n",
              "      <td>Higher education</td>\n",
              "      <td>Married</td>\n",
              "      <td>House / apartment</td>\n",
              "      <td>0.019101</td>\n",
              "      <td>-20038</td>\n",
              "      <td>-4458</td>\n",
              "      <td>-2175.0</td>\n",
              "      <td>-3503</td>\n",
              "      <td>5.0</td>\n",
              "      <td>1</td>\n",
              "      <td>1</td>\n",
              "      <td>0</td>\n",
              "      <td>1</td>\n",
              "      <td>0</td>\n",
              "      <td>0</td>\n",
              "      <td>Drivers</td>\n",
              "      <td>2.0</td>\n",
              "      <td>2</td>\n",
              "      <td>2</td>\n",
              "      <td>MONDAY</td>\n",
              "      <td>14</td>\n",
              "      <td>0</td>\n",
              "      <td>0</td>\n",
              "      <td>0</td>\n",
              "      <td>0</td>\n",
              "      <td>0</td>\n",
              "      <td>0</td>\n",
              "      <td>Transport: type 3</td>\n",
              "      <td>...</td>\n",
              "      <td>NaN</td>\n",
              "      <td>NaN</td>\n",
              "      <td>NaN</td>\n",
              "      <td>NaN</td>\n",
              "      <td>NaN</td>\n",
              "      <td>NaN</td>\n",
              "      <td>NaN</td>\n",
              "      <td>NaN</td>\n",
              "      <td>NaN</td>\n",
              "      <td>0.0</td>\n",
              "      <td>0.0</td>\n",
              "      <td>0.0</td>\n",
              "      <td>0.0</td>\n",
              "      <td>-856.0</td>\n",
              "      <td>0</td>\n",
              "      <td>0</td>\n",
              "      <td>0</td>\n",
              "      <td>0</td>\n",
              "      <td>0</td>\n",
              "      <td>0</td>\n",
              "      <td>1</td>\n",
              "      <td>0</td>\n",
              "      <td>0</td>\n",
              "      <td>0</td>\n",
              "      <td>0</td>\n",
              "      <td>0</td>\n",
              "      <td>0</td>\n",
              "      <td>0</td>\n",
              "      <td>0</td>\n",
              "      <td>0</td>\n",
              "      <td>0</td>\n",
              "      <td>0</td>\n",
              "      <td>0</td>\n",
              "      <td>0</td>\n",
              "      <td>0.0</td>\n",
              "      <td>0.0</td>\n",
              "      <td>0.0</td>\n",
              "      <td>0.0</td>\n",
              "      <td>1.0</td>\n",
              "      <td>4.0</td>\n",
              "    </tr>\n",
              "    <tr>\n",
              "      <th>3</th>\n",
              "      <td>100028</td>\n",
              "      <td>Cash loans</td>\n",
              "      <td>F</td>\n",
              "      <td>N</td>\n",
              "      <td>Y</td>\n",
              "      <td>2</td>\n",
              "      <td>315000.0</td>\n",
              "      <td>1575000.0</td>\n",
              "      <td>49018.5</td>\n",
              "      <td>1575000.0</td>\n",
              "      <td>Unaccompanied</td>\n",
              "      <td>Working</td>\n",
              "      <td>Secondary / secondary special</td>\n",
              "      <td>Married</td>\n",
              "      <td>House / apartment</td>\n",
              "      <td>0.026392</td>\n",
              "      <td>-13976</td>\n",
              "      <td>-1866</td>\n",
              "      <td>-2000.0</td>\n",
              "      <td>-4208</td>\n",
              "      <td>NaN</td>\n",
              "      <td>1</td>\n",
              "      <td>1</td>\n",
              "      <td>0</td>\n",
              "      <td>1</td>\n",
              "      <td>1</td>\n",
              "      <td>0</td>\n",
              "      <td>Sales staff</td>\n",
              "      <td>4.0</td>\n",
              "      <td>2</td>\n",
              "      <td>2</td>\n",
              "      <td>WEDNESDAY</td>\n",
              "      <td>11</td>\n",
              "      <td>0</td>\n",
              "      <td>0</td>\n",
              "      <td>0</td>\n",
              "      <td>0</td>\n",
              "      <td>0</td>\n",
              "      <td>0</td>\n",
              "      <td>Business Entity Type 3</td>\n",
              "      <td>...</td>\n",
              "      <td>0.2446</td>\n",
              "      <td>0.3739</td>\n",
              "      <td>0.0388</td>\n",
              "      <td>0.0817</td>\n",
              "      <td>reg oper account</td>\n",
              "      <td>block of flats</td>\n",
              "      <td>0.3700</td>\n",
              "      <td>Panel</td>\n",
              "      <td>No</td>\n",
              "      <td>0.0</td>\n",
              "      <td>0.0</td>\n",
              "      <td>0.0</td>\n",
              "      <td>0.0</td>\n",
              "      <td>-1805.0</td>\n",
              "      <td>0</td>\n",
              "      <td>1</td>\n",
              "      <td>0</td>\n",
              "      <td>0</td>\n",
              "      <td>0</td>\n",
              "      <td>0</td>\n",
              "      <td>0</td>\n",
              "      <td>0</td>\n",
              "      <td>0</td>\n",
              "      <td>0</td>\n",
              "      <td>0</td>\n",
              "      <td>0</td>\n",
              "      <td>0</td>\n",
              "      <td>0</td>\n",
              "      <td>0</td>\n",
              "      <td>0</td>\n",
              "      <td>0</td>\n",
              "      <td>0</td>\n",
              "      <td>0</td>\n",
              "      <td>0</td>\n",
              "      <td>0.0</td>\n",
              "      <td>0.0</td>\n",
              "      <td>0.0</td>\n",
              "      <td>0.0</td>\n",
              "      <td>0.0</td>\n",
              "      <td>3.0</td>\n",
              "    </tr>\n",
              "    <tr>\n",
              "      <th>4</th>\n",
              "      <td>100038</td>\n",
              "      <td>Cash loans</td>\n",
              "      <td>M</td>\n",
              "      <td>Y</td>\n",
              "      <td>N</td>\n",
              "      <td>1</td>\n",
              "      <td>180000.0</td>\n",
              "      <td>625500.0</td>\n",
              "      <td>32067.0</td>\n",
              "      <td>625500.0</td>\n",
              "      <td>Unaccompanied</td>\n",
              "      <td>Working</td>\n",
              "      <td>Secondary / secondary special</td>\n",
              "      <td>Married</td>\n",
              "      <td>House / apartment</td>\n",
              "      <td>0.010032</td>\n",
              "      <td>-13040</td>\n",
              "      <td>-2191</td>\n",
              "      <td>-4000.0</td>\n",
              "      <td>-4262</td>\n",
              "      <td>16.0</td>\n",
              "      <td>1</td>\n",
              "      <td>1</td>\n",
              "      <td>1</td>\n",
              "      <td>1</td>\n",
              "      <td>0</td>\n",
              "      <td>0</td>\n",
              "      <td>NaN</td>\n",
              "      <td>3.0</td>\n",
              "      <td>2</td>\n",
              "      <td>2</td>\n",
              "      <td>FRIDAY</td>\n",
              "      <td>5</td>\n",
              "      <td>0</td>\n",
              "      <td>0</td>\n",
              "      <td>0</td>\n",
              "      <td>0</td>\n",
              "      <td>1</td>\n",
              "      <td>1</td>\n",
              "      <td>Business Entity Type 3</td>\n",
              "      <td>...</td>\n",
              "      <td>NaN</td>\n",
              "      <td>NaN</td>\n",
              "      <td>NaN</td>\n",
              "      <td>NaN</td>\n",
              "      <td>NaN</td>\n",
              "      <td>NaN</td>\n",
              "      <td>NaN</td>\n",
              "      <td>NaN</td>\n",
              "      <td>NaN</td>\n",
              "      <td>0.0</td>\n",
              "      <td>0.0</td>\n",
              "      <td>0.0</td>\n",
              "      <td>0.0</td>\n",
              "      <td>-821.0</td>\n",
              "      <td>0</td>\n",
              "      <td>1</td>\n",
              "      <td>0</td>\n",
              "      <td>0</td>\n",
              "      <td>0</td>\n",
              "      <td>0</td>\n",
              "      <td>0</td>\n",
              "      <td>0</td>\n",
              "      <td>0</td>\n",
              "      <td>0</td>\n",
              "      <td>0</td>\n",
              "      <td>0</td>\n",
              "      <td>0</td>\n",
              "      <td>0</td>\n",
              "      <td>0</td>\n",
              "      <td>0</td>\n",
              "      <td>0</td>\n",
              "      <td>0</td>\n",
              "      <td>0</td>\n",
              "      <td>0</td>\n",
              "      <td>NaN</td>\n",
              "      <td>NaN</td>\n",
              "      <td>NaN</td>\n",
              "      <td>NaN</td>\n",
              "      <td>NaN</td>\n",
              "      <td>NaN</td>\n",
              "    </tr>\n",
              "  </tbody>\n",
              "</table>\n",
              "<p>5 rows × 121 columns</p>\n",
              "</div>"
            ],
            "text/plain": [
              "   SK_ID_CURR  ... AMT_REQ_CREDIT_BUREAU_YEAR\n",
              "0      100001  ...                        0.0\n",
              "1      100005  ...                        3.0\n",
              "2      100013  ...                        4.0\n",
              "3      100028  ...                        3.0\n",
              "4      100038  ...                        NaN\n",
              "\n",
              "[5 rows x 121 columns]"
            ]
          },
          "metadata": {
            "tags": []
          },
          "execution_count": 69
        }
      ]
    },
    {
      "cell_type": "markdown",
      "metadata": {
        "id": "42WqYLQfSSIy"
      },
      "source": [
        "# EDA (Exploratory Data Analysis)"
      ]
    },
    {
      "cell_type": "code",
      "metadata": {
        "colab": {
          "base_uri": "https://localhost:8080/"
        },
        "id": "G__b1NtFSCkU",
        "outputId": "11a10ce6-8adb-427a-afcb-2c14e0e05111"
      },
      "source": [
        "app_train['TARGET'].value_counts()"
      ],
      "execution_count": 52,
      "outputs": [
        {
          "output_type": "execute_result",
          "data": {
            "text/plain": [
              "0    282686\n",
              "1     24825\n",
              "Name: TARGET, dtype: int64"
            ]
          },
          "metadata": {
            "tags": []
          },
          "execution_count": 52
        }
      ]
    },
    {
      "cell_type": "code",
      "metadata": {
        "colab": {
          "base_uri": "https://localhost:8080/",
          "height": 281
        },
        "id": "KB0i9lS4Sb-c",
        "outputId": "14aa433f-0406-4481-a7dc-11e32286d195"
      },
      "source": [
        "app_train['TARGET'].astype(int).plot.hist()"
      ],
      "execution_count": 53,
      "outputs": [
        {
          "output_type": "execute_result",
          "data": {
            "text/plain": [
              "<matplotlib.axes._subplots.AxesSubplot at 0x7fd6c221ac10>"
            ]
          },
          "metadata": {
            "tags": []
          },
          "execution_count": 53
        },
        {
          "output_type": "display_data",
          "data": {
            "image/png": "[encoded data removed]",
            "text/plain": [
              "<Figure size 432x288 with 1 Axes>"
            ]
          },
          "metadata": {
            "tags": [],
            "needs_background": "light"
          }
        }
      ]
    },
    {
      "cell_type": "markdown",
      "metadata": {
        "id": "1JAVrbLkSloR"
      },
      "source": [
        "불균형 클래스 문제\n",
        "\n",
        "*   대출 상환 가능(0), 상환 어려움(1)\n",
        "*   대출 상환 가능한 사람이 훨씬 더 많다.\n",
        "*   클래스 불균형 문제를 해결하기 위해서 각 클래스에 '가중치'를 부여할 것이다.\n",
        "\n"
      ]
    },
    {
      "cell_type": "code",
      "metadata": {
        "id": "6Cwo9Vg2Sgft"
      },
      "source": [
        "def missing_values_table(df):\n",
        "  mis_val=df.isnull().sum()\n",
        "  mis_val_percent=100*df.isnull().sum()/len(df)\n",
        "\n",
        "  mis_val_table=pd.concat([mis_val, mis_val_percent], axis=1)\n",
        "  mis_val_table_ren_columns=mis_val_table.rename(columns={0:'Missing Values', 1:'% of Total Values'})\n",
        "\n",
        "  mis_val_table_ren_columns=mis_val_table_ren_columns[mis_val_table_ren_columns.iloc[:,1]!=0].sort_values('% of Total Values', ascending=False).round(1)\n",
        "\n",
        "  print(\"Your selected dataframe has \" + str(df.shape[1]) + \"columns.\\n\"\n",
        "      \"There are \" + str(mis_val_table_ren_columns.shape[0])+\" columns that have missing values.\")\n",
        "  \n",
        "  return mis_val_table_ren_columns"
      ],
      "execution_count": 54,
      "outputs": []
    },
    {
      "cell_type": "code",
      "metadata": {
        "colab": {
          "base_uri": "https://localhost:8080/",
          "height": 686
        },
        "id": "7L5MSV-EUVsw",
        "outputId": "7275e67b-6bca-494c-f483-86c7a99a3e88"
      },
      "source": [
        "missing_values=missing_values_table(app_train)\n",
        "missing_values.head(20)"
      ],
      "execution_count": 55,
      "outputs": [
        {
          "output_type": "stream",
          "text": [
            "Your selected dataframe has 122columns.\n",
            "There are 67 columns that have missing values.\n"
          ],
          "name": "stdout"
        },
        {
          "output_type": "execute_result",
          "data": {
            "text/html": [
              "<div>\n",
              "<style scoped>\n",
              "    .dataframe tbody tr th:only-of-type {\n",
              "        vertical-align: middle;\n",
              "    }\n",
              "\n",
              "    .dataframe tbody tr th {\n",
              "        vertical-align: top;\n",
              "    }\n",
              "\n",
              "    .dataframe thead th {\n",
              "        text-align: right;\n",
              "    }\n",
              "</style>\n",
              "<table border=\"1\" class=\"dataframe\">\n",
              "  <thead>\n",
              "    <tr style=\"text-align: right;\">\n",
              "      <th></th>\n",
              "      <th>Missing Values</th>\n",
              "      <th>% of Total Values</th>\n",
              "    </tr>\n",
              "  </thead>\n",
              "  <tbody>\n",
              "    <tr>\n",
              "      <th>COMMONAREA_MEDI</th>\n",
              "      <td>214865</td>\n",
              "      <td>69.9</td>\n",
              "    </tr>\n",
              "    <tr>\n",
              "      <th>COMMONAREA_AVG</th>\n",
              "      <td>214865</td>\n",
              "      <td>69.9</td>\n",
              "    </tr>\n",
              "    <tr>\n",
              "      <th>COMMONAREA_MODE</th>\n",
              "      <td>214865</td>\n",
              "      <td>69.9</td>\n",
              "    </tr>\n",
              "    <tr>\n",
              "      <th>NONLIVINGAPARTMENTS_MEDI</th>\n",
              "      <td>213514</td>\n",
              "      <td>69.4</td>\n",
              "    </tr>\n",
              "    <tr>\n",
              "      <th>NONLIVINGAPARTMENTS_MODE</th>\n",
              "      <td>213514</td>\n",
              "      <td>69.4</td>\n",
              "    </tr>\n",
              "    <tr>\n",
              "      <th>NONLIVINGAPARTMENTS_AVG</th>\n",
              "      <td>213514</td>\n",
              "      <td>69.4</td>\n",
              "    </tr>\n",
              "    <tr>\n",
              "      <th>FONDKAPREMONT_MODE</th>\n",
              "      <td>210295</td>\n",
              "      <td>68.4</td>\n",
              "    </tr>\n",
              "    <tr>\n",
              "      <th>LIVINGAPARTMENTS_MODE</th>\n",
              "      <td>210199</td>\n",
              "      <td>68.4</td>\n",
              "    </tr>\n",
              "    <tr>\n",
              "      <th>LIVINGAPARTMENTS_MEDI</th>\n",
              "      <td>210199</td>\n",
              "      <td>68.4</td>\n",
              "    </tr>\n",
              "    <tr>\n",
              "      <th>LIVINGAPARTMENTS_AVG</th>\n",
              "      <td>210199</td>\n",
              "      <td>68.4</td>\n",
              "    </tr>\n",
              "    <tr>\n",
              "      <th>FLOORSMIN_MODE</th>\n",
              "      <td>208642</td>\n",
              "      <td>67.8</td>\n",
              "    </tr>\n",
              "    <tr>\n",
              "      <th>FLOORSMIN_MEDI</th>\n",
              "      <td>208642</td>\n",
              "      <td>67.8</td>\n",
              "    </tr>\n",
              "    <tr>\n",
              "      <th>FLOORSMIN_AVG</th>\n",
              "      <td>208642</td>\n",
              "      <td>67.8</td>\n",
              "    </tr>\n",
              "    <tr>\n",
              "      <th>YEARS_BUILD_MODE</th>\n",
              "      <td>204488</td>\n",
              "      <td>66.5</td>\n",
              "    </tr>\n",
              "    <tr>\n",
              "      <th>YEARS_BUILD_MEDI</th>\n",
              "      <td>204488</td>\n",
              "      <td>66.5</td>\n",
              "    </tr>\n",
              "    <tr>\n",
              "      <th>YEARS_BUILD_AVG</th>\n",
              "      <td>204488</td>\n",
              "      <td>66.5</td>\n",
              "    </tr>\n",
              "    <tr>\n",
              "      <th>OWN_CAR_AGE</th>\n",
              "      <td>202929</td>\n",
              "      <td>66.0</td>\n",
              "    </tr>\n",
              "    <tr>\n",
              "      <th>LANDAREA_AVG</th>\n",
              "      <td>182590</td>\n",
              "      <td>59.4</td>\n",
              "    </tr>\n",
              "    <tr>\n",
              "      <th>LANDAREA_MEDI</th>\n",
              "      <td>182590</td>\n",
              "      <td>59.4</td>\n",
              "    </tr>\n",
              "    <tr>\n",
              "      <th>LANDAREA_MODE</th>\n",
              "      <td>182590</td>\n",
              "      <td>59.4</td>\n",
              "    </tr>\n",
              "  </tbody>\n",
              "</table>\n",
              "</div>"
            ],
            "text/plain": [
              "                          Missing Values  % of Total Values\n",
              "COMMONAREA_MEDI                   214865               69.9\n",
              "COMMONAREA_AVG                    214865               69.9\n",
              "COMMONAREA_MODE                   214865               69.9\n",
              "NONLIVINGAPARTMENTS_MEDI          213514               69.4\n",
              "NONLIVINGAPARTMENTS_MODE          213514               69.4\n",
              "NONLIVINGAPARTMENTS_AVG           213514               69.4\n",
              "FONDKAPREMONT_MODE                210295               68.4\n",
              "LIVINGAPARTMENTS_MODE             210199               68.4\n",
              "LIVINGAPARTMENTS_MEDI             210199               68.4\n",
              "LIVINGAPARTMENTS_AVG              210199               68.4\n",
              "FLOORSMIN_MODE                    208642               67.8\n",
              "FLOORSMIN_MEDI                    208642               67.8\n",
              "FLOORSMIN_AVG                     208642               67.8\n",
              "YEARS_BUILD_MODE                  204488               66.5\n",
              "YEARS_BUILD_MEDI                  204488               66.5\n",
              "YEARS_BUILD_AVG                   204488               66.5\n",
              "OWN_CAR_AGE                       202929               66.0\n",
              "LANDAREA_AVG                      182590               59.4\n",
              "LANDAREA_MEDI                     182590               59.4\n",
              "LANDAREA_MODE                     182590               59.4"
            ]
          },
          "metadata": {
            "tags": []
          },
          "execution_count": 55
        }
      ]
    },
    {
      "cell_type": "markdown",
      "metadata": {
        "id": "LpoxozIWU2_I"
      },
      "source": [
        "결측값 처리\n",
        "\n",
        "\n",
        "*   결측값이 많은 column을 제거하는 것이 일반적이지만, 해당 column이 도움이 될 수 있으므로 우선 제거하지 않는다.\n",
        "*   우리는 결측값을 채우지 않고 처리해주는 XGBoost와 같은 모델을 사용할 것이다.\n",
        "\n"
      ]
    },
    {
      "cell_type": "code",
      "metadata": {
        "colab": {
          "base_uri": "https://localhost:8080/"
        },
        "id": "fv8qaAitVn21",
        "outputId": "32352024-0623-40e3-ebe9-65f5dd30a893"
      },
      "source": [
        "app_train.dtypes.value_counts()"
      ],
      "execution_count": 57,
      "outputs": [
        {
          "output_type": "execute_result",
          "data": {
            "text/plain": [
              "float64    65\n",
              "int64      41\n",
              "object     16\n",
              "dtype: int64"
            ]
          },
          "metadata": {
            "tags": []
          },
          "execution_count": 57
        }
      ]
    },
    {
      "cell_type": "code",
      "metadata": {
        "colab": {
          "base_uri": "https://localhost:8080/"
        },
        "id": "mmM7KFxyUqXS",
        "outputId": "bd4fb41f-fe5b-462e-c26d-41ba4224c419"
      },
      "source": [
        "app_train.select_dtypes('object').apply(pd.Series.nunique, axis=0)"
      ],
      "execution_count": 59,
      "outputs": [
        {
          "output_type": "execute_result",
          "data": {
            "text/plain": [
              "NAME_CONTRACT_TYPE             2\n",
              "CODE_GENDER                    3\n",
              "FLAG_OWN_CAR                   2\n",
              "FLAG_OWN_REALTY                2\n",
              "NAME_TYPE_SUITE                7\n",
              "NAME_INCOME_TYPE               8\n",
              "NAME_EDUCATION_TYPE            5\n",
              "NAME_FAMILY_STATUS             6\n",
              "NAME_HOUSING_TYPE              6\n",
              "OCCUPATION_TYPE               18\n",
              "WEEKDAY_APPR_PROCESS_START     7\n",
              "ORGANIZATION_TYPE             58\n",
              "FONDKAPREMONT_MODE             4\n",
              "HOUSETYPE_MODE                 3\n",
              "WALLSMATERIAL_MODE             7\n",
              "EMERGENCYSTATE_MODE            2\n",
              "dtype: int64"
            ]
          },
          "metadata": {
            "tags": []
          },
          "execution_count": 59
        }
      ]
    },
    {
      "cell_type": "markdown",
      "metadata": {
        "id": "GsVFubVnV4lh"
      },
      "source": [
        "각 컬럼에서 카테고리형 변수(object)가 매우 적으므로 카테고리형 변수를 처리해준다."
      ]
    },
    {
      "cell_type": "markdown",
      "metadata": {
        "id": "D5cylnHMWL1w"
      },
      "source": [
        "#Encoding Categorical Variables\n",
        "\n",
        "일반적으로 머신 러닝 모델은 범주형 변수를 처리할 수 없다.(LightGBM 같은 모델 제외)\n",
        "\n",
        "그래서 범주형 변수를 숫자로 표현하는 방법을 이용해야 한다.\n",
        "\n",
        "\n",
        "1.   Label Encoding: 범주형 변수를 숫자 정수로 바꿔준다.\n",
        "\n",
        "![image.png](data:image/png;base64,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)\n",
        "\n",
        "\n",
        "2.   One-Hot Encoding: 0과 1로 이루어진 숫자로 만들어준다.\n",
        "\n",
        "![image.png](data:image/png;base64,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)\n",
        "\n",
        "\n",
        "\n"
      ]
    },
    {
      "cell_type": "markdown",
      "metadata": {
        "id": "EgddrW7bXFWY"
      },
      "source": [
        "*  Label Encoding 문제점\n",
        "\n",
        "  - 숫자가 부여되는 방식이 무작위이다.\n",
        "  - 처음에는 (1: 사과, 2: 바나나, 3: 포도)로 바뀌지만 다음 수행 시에는 (1: 포도, 2: 사과, 3: 바나나)처럼 완전히 달라질 수 있다.\n",
        "  - 범주가 2개인 경우(남성,여성)에는 사용할 수 있지만 2개 이상인 경우에는 One-Hot Encoding을 사용한다.\n",
        "\n",
        "\n",
        "* One-Hot Encoding 문제점\n",
        "  - 무작위로 바뀌는 Label Encoding과 달리 항상 동일하므로 안전하다.\n",
        "  - 그러나 데이터의 개수가 많아지면 과부하(=폭발)될 수 있다.\n",
        "  - 그래서 One-Hot Encoding을 수행하고 PCA 등을 이용하여 차원 축소 방법을 사용해준다.\n",
        "\n",
        "이 분석 문제에서는 범주가 2개면 Label Encoding을 하고, 2개 이상이면 One-Hot Encoding을 해줄 것이다.\n"
      ]
    },
    {
      "cell_type": "code",
      "metadata": {
        "colab": {
          "base_uri": "https://localhost:8080/"
        },
        "id": "ZXf6-R_2Vwxi",
        "outputId": "88ed98e5-6fd0-46a9-c60b-c5d6a2344c9a"
      },
      "source": [
        "le=LabelEncoder()\n",
        "le_count=0\n",
        "\n",
        "for col in app_train:\n",
        "  if app_train[col].dtype=='object':\n",
        "    if len(list(app_train[col].unique()))<=2:\n",
        "      le.fit(app_train[col])\n",
        "      app_train[col]=le.transform(app_train[col])\n",
        "      app_test[col]=le.transform(app_test[col])\n",
        "      le_count+=1\n",
        "\n",
        "print('%d columns were label encoded.' % le_count)"
      ],
      "execution_count": 70,
      "outputs": [
        {
          "output_type": "stream",
          "text": [
            "3 columns were label encoded.\n"
          ],
          "name": "stdout"
        }
      ]
    },
    {
      "cell_type": "code",
      "metadata": {
        "colab": {
          "base_uri": "https://localhost:8080/"
        },
        "id": "cjxuEJi4ZmgS",
        "outputId": "2fe44f16-7178-4a2d-c0c5-7dca054355a6"
      },
      "source": [
        "app_train=pd.get_dummies(app_train)\n",
        "app_test=pd.get_dummies(app_test)\n",
        "\n",
        "print('Training Features shape: ', app_train.shape)\n",
        "print('Testing Features shape: ', app_test.shape)"
      ],
      "execution_count": 71,
      "outputs": [
        {
          "output_type": "stream",
          "text": [
            "Training Features shape:  (307511, 243)\n",
            "Testing Features shape:  (48744, 239)\n"
          ],
          "name": "stdout"
        }
      ]
    },
    {
      "cell_type": "code",
      "metadata": {
        "colab": {
          "base_uri": "https://localhost:8080/"
        },
        "id": "FQJJeTmHa9Si",
        "outputId": "40f2babe-a722-4ae0-86b3-53a390099586"
      },
      "source": [
        "train_labels = app_train['TARGET']\n",
        "\n",
        "app_train, app_test = app_train.align(app_test, join = 'inner', axis = 1)\n",
        "\n",
        "app_train['TARGET'] = train_labels\n",
        "\n",
        "print('Training Features shape: ', app_train.shape)\n",
        "print('Testing Features shape: ', app_test.shape)"
      ],
      "execution_count": 74,
      "outputs": [
        {
          "output_type": "stream",
          "text": [
            "Training Features shape:  (307511, 240)\n",
            "Testing Features shape:  (48744, 239)\n"
          ],
          "name": "stdout"
        }
      ]
    },
    {
      "cell_type": "markdown",
      "metadata": {
        "id": "juTOf9vhdDHg"
      },
      "source": [
        "# EDA-Anomalies(이상현상)\n",
        "\n",
        "\n",
        "*   데이터 분석을 할 때 숫자에 대한 이상치를 처리하는 것이 매우 중요하기 때문에 **describe** 메서드를 이용하여 확인한다.\n",
        "*   이 데이터에서는 'DAYS_BIRTH'(출생일)이 대출 신청날로부터 측정되어서 음수 값을 가지게 된다.\n",
        "*   이를 처리하기 위해서 -1을 곱하고, 1년의 일수로 나눠준다.\n",
        "\n",
        "\n"
      ]
    },
    {
      "cell_type": "code",
      "metadata": {
        "colab": {
          "base_uri": "https://localhost:8080/"
        },
        "id": "xkVAaH0MbEWr",
        "outputId": "ce920eaf-8444-4e86-cab9-dfa7448360e8"
      },
      "source": [
        "(app_train['DAYS_BIRTH']/-365).describe()"
      ],
      "execution_count": 76,
      "outputs": [
        {
          "output_type": "execute_result",
          "data": {
            "text/plain": [
              "count    307511.000000\n",
              "mean         43.936973\n",
              "std          11.956133\n",
              "min          20.517808\n",
              "25%          34.008219\n",
              "50%          43.150685\n",
              "75%          53.923288\n",
              "max          69.120548\n",
              "Name: DAYS_BIRTH, dtype: float64"
            ]
          },
          "metadata": {
            "tags": []
          },
          "execution_count": 76
        }
      ]
    },
    {
      "cell_type": "code",
      "metadata": {
        "colab": {
          "base_uri": "https://localhost:8080/"
        },
        "id": "S2HobJvdnYRR",
        "outputId": "8cc777be-c73b-4452-89c0-132a950f4b28"
      },
      "source": [
        "app_train['DAYS_EMPLOYED'].describe()"
      ],
      "execution_count": 77,
      "outputs": [
        {
          "output_type": "execute_result",
          "data": {
            "text/plain": [
              "count    307511.000000\n",
              "mean      63815.045904\n",
              "std      141275.766519\n",
              "min      -17912.000000\n",
              "25%       -2760.000000\n",
              "50%       -1213.000000\n",
              "75%        -289.000000\n",
              "max      365243.000000\n",
              "Name: DAYS_EMPLOYED, dtype: float64"
            ]
          },
          "metadata": {
            "tags": []
          },
          "execution_count": 77
        }
      ]
    },
    {
      "cell_type": "code",
      "metadata": {
        "colab": {
          "base_uri": "https://localhost:8080/",
          "height": 311
        },
        "id": "_y1v0FxGnfcx",
        "outputId": "bbd2d2e4-3967-4c4e-ed0d-5797cb8f69d3"
      },
      "source": [
        "app_train['DAYS_EMPLOYED'].plot.hist(title='Days Employment Histogram')\n",
        "plt.xlabel('Days Employment')"
      ],
      "execution_count": 79,
      "outputs": [
        {
          "output_type": "execute_result",
          "data": {
            "text/plain": [
              "Text(0.5, 0, 'Days Employment')"
            ]
          },
          "metadata": {
            "tags": []
          },
          "execution_count": 0
        },
        {
          "output_type": "display_data",
          "data": {
            "image/png": "[encoded data removed]",
            "text/plain": [
              "<Figure size 432x288 with 1 Axes>"
            ]
          },
          "metadata": {
            "tags": []
          }
        }
      ]
    },
    {
      "cell_type": "code",
      "metadata": {
        "colab": {
          "base_uri": "https://localhost:8080/"
        },
        "id": "O96KTlJSnvVF",
        "outputId": "d6cf9991-8573-4fbe-a7e0-422744a7038b"
      },
      "source": [
        "anom=app_train[app_train['DAYS_EMPLOYED']==365243]\n",
        "non_anom=app_train[app_train['DAYS_EMPLOYED']!=365243]\n",
        "print('The non-anomalies default on %0.2f%% of loans' % (100*non_anom['TARGET'].mean()))\n",
        "print('The anomalies default on %0.2f%% of loans' % (100*anom['TARGET'].mean()))\n",
        "print('There are %d anomalous days of employment' % len(anom))"
      ],
      "execution_count": 83,
      "outputs": [
        {
          "output_type": "stream",
          "text": [
            "The non-anomalies default on 8.66% of loans\n",
            "The anomalies default on 5.40% of loans\n",
            "There are 55374 anomalous days of employment\n"
          ],
          "name": "stdout"
        }
      ]
    },
    {
      "cell_type": "code",
      "metadata": {
        "colab": {
          "base_uri": "https://localhost:8080/",
          "height": 311
        },
        "id": "94reV7lVo_bX",
        "outputId": "bbf9e225-2277-4327-d49a-08f90b991929"
      },
      "source": [
        "app_train['DAYS_EMPLOYED_ANOM']=app_train['DAYS_EMPLOYED']==365243\n",
        "app_train['DAYS_EMPLOYED'].replace({365243: np.nan}, inplace=True)\n",
        "app_train['DAYS_EMPLOYED'].plot.hist(title='Days Employment Histogram')\n",
        "plt.xlabel('Days Employment')"
      ],
      "execution_count": 84,
      "outputs": [
        {
          "output_type": "execute_result",
          "data": {
            "text/plain": [
              "Text(0.5, 0, 'Days Employment')"
            ]
          },
          "metadata": {
            "tags": []
          },
          "execution_count": 84
        },
        {
          "output_type": "display_data",
          "data": {
            "image/png": "[encoded data removed]",
            "text/plain": [
              "<Figure size 432x288 with 1 Axes>"
            ]
          },
          "metadata": {
            "tags": [],
            "needs_background": "light"
          }
        }
      ]
    },
    {
      "cell_type": "code",
      "metadata": {
        "colab": {
          "base_uri": "https://localhost:8080/"
        },
        "id": "31oqC3MSoNXV",
        "outputId": "43116575-219d-43e7-fd7d-a47e0f4a0147"
      },
      "source": [
        "app_test['DAYS_EMPLOYED_ANOM']=app_test['DAYS_EMPLOYED']==365243\n",
        "app_test['DAYS_EMPLOYED'].replace({365243: np.nan}, inplace=True)\n",
        "\n",
        "print('There are %d anomalies in the test data out of %d entries' % (app_test['DAYS_EMPLOYED_ANOM'].sum(), len(app_test)))"
      ],
      "execution_count": 86,
      "outputs": [
        {
          "output_type": "stream",
          "text": [
            "There are 9274 anomalies in the test data out of 48744 entries\n"
          ],
          "name": "stdout"
        }
      ]
    },
    {
      "cell_type": "markdown",
      "metadata": {
        "id": "fuE6PVAPqxkJ"
      },
      "source": [
        "# Correlation(상관관계)\n",
        "\n",
        "\n",
        "*  변수 간의 상관관계를 알기 위해서 **Pearson** 계수를 사용한다.\n",
        "*  상관 계수 해석\n",
        "\n",
        "    *   0 ~ 0.2 : 매우 약함\n",
        "    *   0.2 ~ 0.4 : 약함\n",
        "    *   0.4 ~ 0.6 : 보통\n",
        "    *   0.6 ~ 0.8 : 강함\n",
        "    *   0.8 ~ 1.0 : 매우 강함\n",
        "\n",
        "\n",
        "\n"
      ]
    },
    {
      "cell_type": "code",
      "metadata": {
        "colab": {
          "base_uri": "https://localhost:8080/"
        },
        "id": "sm2JgBEKqqG7",
        "outputId": "de0af4bf-69fb-4cd7-c8b0-5d9825156b99"
      },
      "source": [
        "correlations=app_train.corr()['TARGET'].sort_values()\n",
        "\n",
        "print('Most Positive Correlations:\\n', correlations.tail(15))\n",
        "print('\\nMost Negative Correlations:\\n', correlations.head(15))"
      ],
      "execution_count": 88,
      "outputs": [
        {
          "output_type": "stream",
          "text": [
            "Most Positive Correlations:\n",
            " OCCUPATION_TYPE_Laborers                             0.043019\n",
            "FLAG_DOCUMENT_3                                      0.044346\n",
            "REG_CITY_NOT_LIVE_CITY                               0.044395\n",
            "FLAG_EMP_PHONE                                       0.045982\n",
            "NAME_EDUCATION_TYPE_Secondary / secondary special    0.049824\n",
            "REG_CITY_NOT_WORK_CITY                               0.050994\n",
            "DAYS_ID_PUBLISH                                      0.051457\n",
            "CODE_GENDER_M                                        0.054713\n",
            "DAYS_LAST_PHONE_CHANGE                               0.055218\n",
            "NAME_INCOME_TYPE_Working                             0.057481\n",
            "REGION_RATING_CLIENT                                 0.058899\n",
            "REGION_RATING_CLIENT_W_CITY                          0.060893\n",
            "DAYS_EMPLOYED                                        0.074958\n",
            "DAYS_BIRTH                                           0.078239\n",
            "TARGET                                               1.000000\n",
            "Name: TARGET, dtype: float64\n",
            "\n",
            "Most Negative Correlations:\n",
            " EXT_SOURCE_3                           -0.178919\n",
            "EXT_SOURCE_2                           -0.160472\n",
            "EXT_SOURCE_1                           -0.155317\n",
            "NAME_EDUCATION_TYPE_Higher education   -0.056593\n",
            "CODE_GENDER_F                          -0.054704\n",
            "NAME_INCOME_TYPE_Pensioner             -0.046209\n",
            "DAYS_EMPLOYED_ANOM                     -0.045987\n",
            "ORGANIZATION_TYPE_XNA                  -0.045987\n",
            "FLOORSMAX_AVG                          -0.044003\n",
            "FLOORSMAX_MEDI                         -0.043768\n",
            "FLOORSMAX_MODE                         -0.043226\n",
            "EMERGENCYSTATE_MODE_No                 -0.042201\n",
            "HOUSETYPE_MODE_block of flats          -0.040594\n",
            "AMT_GOODS_PRICE                        -0.039645\n",
            "REGION_POPULATION_RELATIVE             -0.037227\n",
            "Name: TARGET, dtype: float64\n"
          ],
          "name": "stdout"
        }
      ]
    },
    {
      "cell_type": "markdown",
      "metadata": {
        "id": "8vyBJCgArm-U"
      },
      "source": [
        "강한 상관관계를 보이는 변수는 'DAYS_BIRTH(나이)'이다.\n",
        "(종속 변수 'TARGET'의 상관관계는 항상 1이므로 무시한다.)\n",
        "\n",
        "그런데 'DAYS_BIRTH'는 음수 값이므로 절대값을 취해서 상관관계를 다시 확인한다."
      ]
    },
    {
      "cell_type": "code",
      "metadata": {
        "colab": {
          "base_uri": "https://localhost:8080/"
        },
        "id": "eG4QlmV9sET_",
        "outputId": "0464db18-0620-4d25-c817-4cbea932c463"
      },
      "source": [
        "app_train['DAYS_BIRTH']=abs(app_train['DAYS_BIRTH'])\n",
        "app_train['DAYS_BIRTH'].corr(app_train['TARGET'])"
      ],
      "execution_count": 90,
      "outputs": [
        {
          "output_type": "execute_result",
          "data": {
            "text/plain": [
              "-0.07823930830982692"
            ]
          },
          "metadata": {
            "tags": []
          },
          "execution_count": 90
        }
      ]
    },
    {
      "cell_type": "markdown",
      "metadata": {
        "id": "IknZPol8saPq"
      },
      "source": [
        "음의 선형 관계 -0.078\n",
        "\n",
        "  * 고객의 나이가 증가할수록 TARGET은 0이 많다. (상환을 잘한다)\n",
        "  * = 고객의 나이가 감소할수록 TARGET은 1이 많다. (상환을 잘 하지 못한다)\n",
        "\n",
        "즉, 고객의 나이가 많을수록 대출 상환을 잘한다는 것을 알 수 있다. 이를 직접적으로 확인하기 위해 히스토그램을 이용해보자."
      ]
    },
    {
      "cell_type": "code",
      "metadata": {
        "colab": {
          "base_uri": "https://localhost:8080/",
          "height": 341
        },
        "id": "hp8lM5Ssrdq6",
        "outputId": "31529aaf-941a-4da6-c198-e282f9e16d32"
      },
      "source": [
        "plt.style.use('fivethirtyeight')\n",
        "plt.hist(app_train['DAYS_BIRTH']/365, edgecolor='k', bins=25)\n",
        "plt.title('Age of Client'); plt.xlabel('Age(years)'); plt.ylabel('Count')"
      ],
      "execution_count": 91,
      "outputs": [
        {
          "output_type": "execute_result",
          "data": {
            "text/plain": [
              "Text(0, 0.5, 'Count')"
            ]
          },
          "metadata": {
            "tags": []
          },
          "execution_count": 91
        },
        {
          "output_type": "display_data",
          "data": {
            "image/png": "[encoded data removed]",
            "text/plain": [
              "<Figure size 432x288 with 1 Axes>"
            ]
          },
          "metadata": {
            "tags": []
          }
        }
      ]
    },
    {
      "cell_type": "markdown",
      "metadata": {
        "id": "WK80Z4iCv1PE"
      },
      "source": [
        "일반 히스토그램 만으로는 연령대의 분포밖에 확인할 수 없다.\n",
        "\n",
        "그러므로 KDE(커널 밀도 추정) 그래프를 그려서 TARGET 분포를 확인해보자."
      ]
    },
    {
      "cell_type": "code",
      "metadata": {
        "id": "AKcfUPOvvthN"
      },
      "source": [
        ""
      ],
      "execution_count": null,
      "outputs": []
    }
  ]
}